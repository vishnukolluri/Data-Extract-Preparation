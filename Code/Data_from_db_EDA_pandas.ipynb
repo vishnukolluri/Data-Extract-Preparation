{
 "cells": [
  {
   "cell_type": "markdown",
   "id": "85ee67b2",
   "metadata": {},
   "source": [
    "Data Wrangling with Python: Activity 11, page 320\n",
    "Task 1: (Connect to the supplied petsDB, and (OPTIONAL) write a function to check if the connection is done)"
   ]
  },
  {
   "cell_type": "code",
   "execution_count": 3,
   "id": "e24829b8",
   "metadata": {},
   "outputs": [],
   "source": [
    "#Import lib\n",
    "import sqlite3\n",
    "import pandas as pd"
   ]
  },
  {
   "cell_type": "code",
   "execution_count": 18,
   "id": "0f353774",
   "metadata": {},
   "outputs": [],
   "source": [
    "#Connect to petsDB and check connection\n",
    "conn = sqlite3.connect(\"/Users/vishnukolluri/Downloads/petsdb\")"
   ]
  },
  {
   "cell_type": "code",
   "execution_count": 19,
   "id": "89b878d4",
   "metadata": {},
   "outputs": [],
   "source": [
    "# Connection check\n",
    "def chk_conn(conn):\n",
    "     try:\n",
    "        conn.cursor()\n",
    "        return True\n",
    "     except Exception as ex:\n",
    "        return False"
   ]
  },
  {
   "cell_type": "code",
   "execution_count": 20,
   "id": "1526e4dd",
   "metadata": {},
   "outputs": [
    {
     "name": "stdout",
     "output_type": "stream",
     "text": [
      "True\n"
     ]
    }
   ],
   "source": [
    "print(chk_conn(conn))"
   ]
  },
  {
   "cell_type": "code",
   "execution_count": 25,
   "id": "8244e8c5",
   "metadata": {},
   "outputs": [
    {
     "name": "stdout",
     "output_type": "stream",
     "text": [
      " Age 5 -> 2 People \n",
      " Age 6 -> 1 People \n",
      " Age 7 -> 1 People \n",
      " Age 8 -> 3 People \n",
      " Age 9 -> 1 People \n",
      " Age 11 -> 2 People \n",
      " Age 12 -> 3 People \n",
      " Age 13 -> 1 People \n",
      " Age 14 -> 4 People \n",
      " Age 16 -> 2 People \n",
      " Age 17 -> 2 People \n",
      " Age 18 -> 3 People \n",
      " Age 19 -> 1 People \n",
      " Age 22 -> 3 People \n",
      " Age 23 -> 2 People \n",
      " Age 24 -> 3 People \n",
      " Age 25 -> 2 People \n",
      " Age 27 -> 1 People \n",
      " Age 30 -> 1 People \n",
      " Age 31 -> 3 People \n",
      " Age 32 -> 1 People \n",
      " Age 33 -> 1 People \n",
      " Age 34 -> 2 People \n",
      " Age 35 -> 3 People \n",
      " Age 36 -> 3 People \n",
      " Age 37 -> 1 People \n",
      " Age 39 -> 2 People \n",
      " Age 40 -> 1 People \n",
      " Age 42 -> 1 People \n",
      " Age 44 -> 2 People \n",
      " Age 48 -> 2 People \n",
      " Age 49 -> 1 People \n",
      " Age 50 -> 1 People \n",
      " Age 51 -> 2 People \n",
      " Age 52 -> 2 People \n",
      " Age 53 -> 2 People \n",
      " Age 54 -> 2 People \n",
      " Age 58 -> 1 People \n",
      " Age 59 -> 1 People \n",
      " Age 60 -> 1 People \n",
      " Age 61 -> 1 People \n",
      " Age 62 -> 2 People \n",
      " Age 63 -> 1 People \n",
      " Age 65 -> 2 People \n",
      " Age 66 -> 2 People \n",
      " Age 67 -> 1 People \n",
      " Age 68 -> 3 People \n",
      " Age 69 -> 1 People \n",
      " Age 70 -> 1 People \n",
      " Age 71 -> 4 People \n",
      " Age 72 -> 1 People \n",
      " Age 73 -> 5 People \n",
      " Age 74 -> 3 People \n"
     ]
    }
   ],
   "source": [
    "#Task 2: (What are the different age groups in the persons database)\n",
    "\n",
    "c = conn.cursor()\n",
    "for ppl, age in c.execute(\"SELECT count(*), age FROM persons GROUP BY age\"):\n",
    "    print(f\" Age {age} -> {ppl} People \")"
   ]
  },
  {
   "cell_type": "code",
   "execution_count": 26,
   "id": "26a2ca9e",
   "metadata": {},
   "outputs": [
    {
     "name": "stdout",
     "output_type": "stream",
     "text": [
      "Highest number of people 5 came from 73 age group\n"
     ]
    }
   ],
   "source": [
    "#Which age group has maximum number of people?\n",
    "\n",
    "for ppl, age in c.execute(\"SELECT count(*), age FROM persons GROUP BY age ORDER BY count(*) DESC\"):\n",
    "    print(\"Highest number of people {} came from {} age group\".format(ppl, age))\n",
    "    break"
   ]
  },
  {
   "cell_type": "code",
   "execution_count": 30,
   "id": "b32c1223",
   "metadata": {},
   "outputs": [
    {
     "name": "stdout",
     "output_type": "stream",
     "text": [
      "(1, 'Erica', None, 22, 'south port', 2345678)\n",
      "(2, 'Jordi', None, 73, 'east port', 123456)\n",
      "(3, 'Chasity', None, 70, 'new port', 76856785)\n",
      "(4, 'Gregg', None, 31, 'new port', 76856785)\n",
      "(6, 'Cary', None, 73, 'new port', 76856785)\n",
      "(8, 'Francisca', None, 14, 'west port', 123456)\n",
      "(10, 'Raleigh', None, 68, 'new port', 2345678)\n",
      "(11, 'Maria', None, 42, 'west port', 123456)\n",
      "(12, 'Mariane', None, 62, 'south port', 9756543)\n",
      "(13, 'Mona', None, 44, 'south port', 76856785)\n",
      "(14, 'Kayla', None, 36, 'south port', 2345678)\n",
      "(15, 'Karlie', None, 35, 'west port', 123456)\n",
      "(16, 'Morris', None, 71, 'west port', 76856785)\n",
      "(17, 'Sandy', None, 23, 'east port', 2345678)\n",
      "(18, 'Hector', None, 63, 'east port', 9756543)\n",
      "(19, 'Hiram', None, 52, 'west port', 2345678)\n",
      "(20, 'Tressa', None, 59, 'new port', 123456)\n",
      "(21, 'Berry', None, 22, 'south port', 2345678)\n",
      "(22, 'Pearline', None, 73, 'new port', 9756543)\n",
      "(23, 'Maynard', None, 25, 'east port', 123456)\n",
      "(24, 'Dorian', None, 40, 'east port', 123456)\n",
      "(25, 'Mylene', None, 5, 'east port', 76856785)\n",
      "(26, 'Lafayette', None, 34, 'new port', 2345678)\n",
      "(29, 'Tara', None, 39, 'west port', 123456)\n",
      "(30, 'Destiny', None, 18, 'south port', 2345678)\n",
      "(31, 'Lesly', None, 31, 'west port', 123456)\n",
      "(32, 'Perry', None, 19, 'south port', 76856785)\n",
      "(35, 'Maritza', None, 73, 'east port', 9756543)\n",
      "(37, 'Grant', None, 61, 'east port', 76856785)\n",
      "(39, 'Laury', None, 17, 'east port', 9756543)\n",
      "(40, 'Name', None, 52, 'east port', 9756543)\n",
      "(41, 'Estefania', None, 32, 'new port', 76856785)\n",
      "(42, 'Destiney', None, 65, 'west port', 2345678)\n",
      "(43, 'Jaquelin', None, 73, 'west port', 9756543)\n",
      "(45, 'Alfonzo', None, 16, 'east port', 2345678)\n",
      "(46, 'Lisandro', None, 11, 'new port', 76856785)\n",
      "(49, 'Priscilla', None, 65, 'east port', 76856785)\n",
      "(50, 'Elenora', None, 11, 'new port', 76856785)\n",
      "(52, 'Rudolph', None, 14, 'east port', 76856785)\n",
      "(56, 'Ona', None, 35, 'east port', 9756543)\n",
      "(57, 'Rebeca', None, 50, 'new port', 76856785)\n",
      "(59, 'Sigurd', None, 12, 'west port', 76856785)\n",
      "(63, 'Alice', None, 8, 'west port', 76856785)\n",
      "(64, 'Dane', None, 24, 'west port', 9756543)\n",
      "(65, 'Judge', None, 17, 'south port', 76856785)\n",
      "(66, 'Allene', None, 9, 'new port', 9756543)\n",
      "(67, 'Jalen', None, 33, 'new port', 2345678)\n",
      "(70, 'Myron', None, 36, 'new port', 9756543)\n",
      "(73, 'Travon', None, 16, 'south port', 2345678)\n",
      "(74, 'Shayna', None, 60, 'new port', 2345678)\n",
      "(75, 'Myah', None, 14, 'east port', 2345678)\n",
      "(82, 'Letha', None, 44, 'new port', 9756543)\n",
      "(84, 'Felton', None, 74, 'east port', 2345678)\n",
      "(85, 'London', None, 66, 'east port', 9756543)\n",
      "(86, 'Koby', None, 31, 'west port', 9756543)\n",
      "(87, 'Golden', None, 35, 'east port', 76856785)\n",
      "(89, 'Anissa', None, 8, 'south port', 76856785)\n",
      "(91, 'Sid', None, 22, 'west port', 123456)\n",
      "(96, 'Ernesto', None, 69, 'east port', 9756543)\n",
      "(97, 'Josianne', None, 14, 'west port', 76856785)\n"
     ]
    }
   ],
   "source": [
    "#How many people do not have a full name \n",
    "nalname = c.execute(\"SELECT * FROM persons where last_name is null\")\n",
    "for name in nalname:\n",
    "  print(f\"{name}\")"
   ]
  },
  {
   "cell_type": "code",
   "execution_count": 31,
   "id": "29f512ba",
   "metadata": {},
   "outputs": [
    {
     "name": "stdout",
     "output_type": "stream",
     "text": [
      "43 People has more than one pets\n"
     ]
    }
   ],
   "source": [
    "#How many people has more than one pet?\n",
    "res = c.execute(\"SELECT count(*) FROM (SELECT count(owner_id) FROM pets GROUP BY owner_id HAVING count(owner_id) >1)\")\n",
    "for row in res:\n",
    "    print(\"{} People has more than one pets\".format(row[0]))"
   ]
  },
  {
   "cell_type": "code",
   "execution_count": 32,
   "id": "7a295427",
   "metadata": {},
   "outputs": [
    {
     "name": "stdout",
     "output_type": "stream",
     "text": [
      "(36,)\n"
     ]
    }
   ],
   "source": [
    "#How many pets have received treaments?\n",
    "res = c.execute(\"SELECT count(*) FROM pets WHERE treatment_done=1\")\n",
    "for row in res:\n",
    "    print(row)"
   ]
  },
  {
   "cell_type": "code",
   "execution_count": 33,
   "id": "f55769ed",
   "metadata": {},
   "outputs": [
    {
     "name": "stdout",
     "output_type": "stream",
     "text": [
      "(16,)\n"
     ]
    }
   ],
   "source": [
    "#How many pets have received treatment that we know the type of?\n",
    "\n",
    "res = c.execute(\"SELECT count(*) FROM pets WHERE treatment_done=1 AND pet_type IS NOT null\")\n",
    "for row in res:\n",
    "    print(row)"
   ]
  },
  {
   "cell_type": "code",
   "execution_count": 34,
   "id": "02812071",
   "metadata": {},
   "outputs": [
    {
     "name": "stdout",
     "output_type": "stream",
     "text": [
      "(49,)\n"
     ]
    },
    {
     "data": {
      "text/plain": [
       "(49,)"
      ]
     },
     "execution_count": 34,
     "metadata": {},
     "output_type": "execute_result"
    }
   ],
   "source": [
    "#How many pets are there from the city called \"east port\"\n",
    "res = c.execute(\"SELECT count(*) FROM pets JOIN persons ON pets.owner_id = persons.id WHERE persons.city='east port'\")\n",
    "for row in res:\n",
    "    print(row)\n",
    "(49,)"
   ]
  },
  {
   "cell_type": "code",
   "execution_count": 35,
   "id": "3465af0d",
   "metadata": {},
   "outputs": [
    {
     "name": "stdout",
     "output_type": "stream",
     "text": [
      "(11,)\n"
     ]
    }
   ],
   "source": [
    "#How many pets are there from the city called \"east port\" and who received a treatment?\n",
    "\n",
    "res = c.execute(\"SELECT count(*) FROM pets JOIN persons ON pets.owner_id = persons.id WHERE persons.city='east port' AND pets.treatment_done=1\")\n",
    "for row in res:\n",
    "    print(row)"
   ]
  },
  {
   "cell_type": "code",
   "execution_count": null,
   "id": "266633ac",
   "metadata": {},
   "outputs": [],
   "source": []
  }
 ],
 "metadata": {
  "kernelspec": {
   "display_name": "Python 3 (ipykernel)",
   "language": "python",
   "name": "python3"
  },
  "language_info": {
   "codemirror_mode": {
    "name": "ipython",
    "version": 3
   },
   "file_extension": ".py",
   "mimetype": "text/x-python",
   "name": "python",
   "nbconvert_exporter": "python",
   "pygments_lexer": "ipython3",
   "version": "3.9.7"
  }
 },
 "nbformat": 4,
 "nbformat_minor": 5
}
