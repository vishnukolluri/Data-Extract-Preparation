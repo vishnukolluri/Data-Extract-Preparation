{
 "cells": [
  {
   "cell_type": "markdown",
   "id": "ef759123",
   "metadata": {},
   "source": [
    "Data Wrangling with Python\n",
    "\n"
   ]
  },
  {
   "cell_type": "code",
   "execution_count": 85,
   "id": "105d2345",
   "metadata": {},
   "outputs": [],
   "source": [
    "# Import libraries\n",
    "import urllib.request, urllib.parse, urllib.error\n",
    "import requests\n",
    "from bs4 import BeautifulSoup\n",
    "import ssl\n",
    "import re\n",
    "import json\n",
    "import os\n",
    "import twitter\n",
    "import pandas as pd\n",
    "import matplotlib.pyplot as plt"
   ]
  },
  {
   "cell_type": "code",
   "execution_count": 2,
   "id": "8564bfdd",
   "metadata": {},
   "outputs": [],
   "source": [
    "#Ignore ssl errors\n",
    "# Ignore SSL certificate errors\n",
    "ctx = ssl.create_default_context()\n",
    "ctx.check_hostname = False\n",
    "ctx.verify_mode = ssl.CERT_NONE"
   ]
  },
  {
   "cell_type": "code",
   "execution_count": 3,
   "id": "4fbfa21a",
   "metadata": {},
   "outputs": [],
   "source": [
    "##Read the HTML from the URL\n",
    "topurl = 'https://www.gutenberg.org/browse/scores/top'\n",
    "response = requests.get(topurl)"
   ]
  },
  {
   "cell_type": "code",
   "execution_count": 4,
   "id": "ad9b84fd",
   "metadata": {},
   "outputs": [],
   "source": [
    "#Write a small function to check the status of web request\n",
    "def status_check(r):\n",
    "    if r.status_code==200:\n",
    "        print(\"Success!\")\n",
    "        return 1\n",
    "    else:\n",
    "        print(\"Failed!\")\n",
    "        return -1\n",
    "    \n",
    "    "
   ]
  },
  {
   "cell_type": "code",
   "execution_count": 5,
   "id": "7cb4690a",
   "metadata": {},
   "outputs": [
    {
     "name": "stdout",
     "output_type": "stream",
     "text": [
      "Success!\n"
     ]
    },
    {
     "data": {
      "text/plain": [
       "1"
      ]
     },
     "execution_count": 5,
     "metadata": {},
     "output_type": "execute_result"
    }
   ],
   "source": [
    "status_check(response)"
   ]
  },
  {
   "cell_type": "code",
   "execution_count": 6,
   "id": "e3e5eabe",
   "metadata": {},
   "outputs": [],
   "source": [
    "#Decode the response and pass on to BeautifulSoup for HTML parsing\n",
    "contents = response.content.decode(response.encoding)\n",
    "soup = BeautifulSoup(contents, 'html.parser')"
   ]
  },
  {
   "cell_type": "code",
   "execution_count": 10,
   "id": "aabce238",
   "metadata": {},
   "outputs": [],
   "source": [
    "#Find all the href tags and store them in the list of links. Check how the list looks like - print first 30 elements\n",
    "\n",
    "List_href=[] \n",
    "#Find href tags\n",
    "for link in soup.find_all('a'): \n",
    "    #add items to the list\n",
    "    List_href.append(link.get('href'))   "
   ]
  },
  {
   "cell_type": "code",
   "execution_count": 12,
   "id": "7dadbdc5",
   "metadata": {},
   "outputs": [
    {
     "data": {
      "text/plain": [
       "['/',\n",
       " '/about/',\n",
       " '/about/',\n",
       " '/policy/collection_development.html',\n",
       " '/about/contact_information.html',\n",
       " '/about/background/',\n",
       " '/policy/permission.html',\n",
       " '/policy/privacy_policy.html',\n",
       " '/policy/terms_of_use.html',\n",
       " '/ebooks/',\n",
       " '/ebooks/',\n",
       " '/ebooks/bookshelf/',\n",
       " '/browse/scores/top',\n",
       " '/ebooks/offline_catalogs.html',\n",
       " '/help/',\n",
       " '/help/',\n",
       " '/help/copyright.html',\n",
       " '/help/errata.html',\n",
       " '/help/file_formats.html',\n",
       " '/help/faq.html',\n",
       " '/policy/',\n",
       " '/help/public_domain_ebook_submission.html',\n",
       " '/help/submitting_your_own_work.html',\n",
       " '/help/mobile.html',\n",
       " '/attic/',\n",
       " '/donate/',\n",
       " '/donate/',\n",
       " '#books-last1',\n",
       " '#authors-last1',\n",
       " '#books-last7']"
      ]
     },
     "execution_count": 12,
     "metadata": {},
     "output_type": "execute_result"
    }
   ],
   "source": [
    "List_href[:30]"
   ]
  },
  {
   "cell_type": "code",
   "execution_count": 15,
   "id": "eedbb2db",
   "metadata": {},
   "outputs": [
    {
     "name": "stdout",
     "output_type": "stream",
     "text": [
      "\n",
      "The file numbers for the top 100 ebooks on Gutenberg are shown below\n",
      "----------------------------------------------------------------------\n",
      "[1, 1, 7, 7, 30, 30, 2641, 145, 37106, 16389, 67979, 2701, 100, 6761, 394, 2160, 4085, 6593, 5197, 1259, 84, 1342, 46, 69324, 11, 25344, 1661, 345, 174, 1952, 98, 43, 1080, 2542, 64317, 20228, 76, 69323, 2591, 844, 1260, 1400, 4300, 2554, 28054, 5200, 69322, 74, 2600, 23, 1232, 1184, 120, 41, 69325, 55024, 69328, 408, 5740, 730, 6130, 51764, 244, 30254, 219, 2852, 35, 45, 514, 10007, 205, 158, 768, 1497, 4363, 35899, 36, 1727, 42108, 135, 3207, 236, 33283, 43453, 1399, 69329, 58585, 55, 69319, 996, 16, 2814]\n"
     ]
    }
   ],
   "source": [
    "#Use regular expression to find the numeric digits in these links.These are the file number for the Top 100 books.\n",
    "\n",
    "#Initialize empty list to hold the file numbers\n",
    "booknum=[]\n",
    "#19 to 118 has book numbers\n",
    "for i in range(19,119):                      \n",
    "    links=List_href[i]\n",
    "    # Strip link from element\n",
    "    links=links.strip()\n",
    "    # regular expression to find numeric digits\n",
    "    n=re.findall('[0-9]+', links)              \n",
    "    if len(n)==1:\n",
    "        # Add the number into list\n",
    "        booknum.append(int(n[0]))                \n",
    "print (\"\\nThe file numbers for the top 100 ebooks on Gutenberg are shown below\\n\"+\"-\"*70)\n",
    "print(booknum)"
   ]
  },
  {
   "cell_type": "code",
   "execution_count": 18,
   "id": "e16325b9",
   "metadata": {},
   "outputs": [
    {
     "name": "stdout",
     "output_type": "stream",
     "text": [
      "\n",
      "\n",
      "\n",
      "\n",
      "Top 100 | Project Gutenberg\n",
      "\n",
      "\n",
      "\n",
      "\n",
      "\n",
      "\n",
      "\n",
      "\n",
      "\n",
      "\n",
      "\n",
      "\n",
      "\n",
      "\n",
      "\n",
      "\n",
      "\n",
      "\n",
      "\n",
      "\n",
      "\n",
      "\n",
      "\n",
      "\n",
      "\n",
      "\n",
      "\n",
      "Menu▾\n",
      "\n",
      "\n",
      "\n",
      "About\n",
      "          ▾\n",
      "\n",
      "▾\n",
      "\n",
      "\n",
      "About Project Gutenberg\n",
      "Collection Development\n",
      "Contact Us\n",
      "History & Philosophy\n",
      "Permissions & License\n",
      "Privacy Policy\n",
      "Terms of Use\n",
      "\n",
      "\n",
      "\n",
      "Search and Browse\n",
      "      \t  ▾\n",
      "\n",
      "▾\n",
      "\n",
      "\n",
      "Book Search\n",
      "Bookshelves\n",
      "Frequently Downloaded\n",
      "Offline Catalogs\n",
      "\n",
      "\n",
      "\n",
      "Help\n",
      "          ▾\n",
      "\n",
      "▾\n",
      "\n",
      "\n",
      "All help topics →\n",
      "Copyright Procedures\n",
      "Errata, Fixes and Bug Reports\n",
      "File Formats\n",
      "Frequently Asked Questions\n",
      "Policies →\n",
      "Public Domain eBook Submission\n",
      "Submitting Your Own Work\n",
      "Tablets, Phones and eReaders\n",
      "The Attic →\n",
      "\n",
      "\n",
      "Donate\n",
      "\n",
      "\n",
      "\n",
      "\n",
      "\n",
      "\n",
      "\n",
      "\n",
      "\n",
      "\n",
      "Donation\n",
      "\n",
      "\n",
      "\n",
      "\n",
      "\n",
      "\n",
      "\n",
      "Frequently Viewed or Downloaded\n",
      "These listings are based on the number of times each eBook gets downloaded.\n",
      "      Multiple downloads from the same Internet address on the same day count as one download, and addresses that download more than 100 eBooks in a day are considered robots and are not counted.\n",
      "\n",
      "Downloaded Books\n",
      "2022-11-11254225\n",
      "last 7 days1334422\n",
      "last 30 days6171955\n",
      "\n",
      "\n",
      "\n",
      "Top 100 EBooks yesterday\n",
      "Top 100 Authors yesterday\n",
      "Top 100 EBooks last 7 days\n",
      "Top 100 Authors last 7 days\n",
      "Top 100 EBooks last 30 days\n",
      "Top 100 Authors last 30 days\n",
      "\n",
      "\n",
      "Top 100 EBooks yesterday\n",
      "\n",
      "A Room with a View by E. M.  Forster (6170)\n",
      "Middlemarch by George Eliot (5738)\n",
      "Little Women; Or, Meg, Jo, Beth, and Amy by Louisa May Alcott (5331)\n",
      "The Enchanted April by Elizabeth Von Arnim (5252)\n",
      "The Blue Castle: a novel by L. M.  Montgomery (5100)\n",
      "Moby Dick; Or, The Whale by Herman Melville (5091)\n",
      "The Complete Works of William Shakespeare by William Shakespeare (5063)\n",
      "The Adventures of Ferdinand Count Fathom — Complete by T.  Smollett (5011)\n",
      "Cranford by Elizabeth Cleghorn Gaskell (4962)\n",
      "The Expedition of Humphry Clinker by T.  Smollett (4856)\n",
      "The Adventures of Roderick Random by T.  Smollett (4797)\n",
      "History of Tom Jones, a Foundling by Henry Fielding (4553)\n",
      "My Life — Volume 1 by Richard Wagner (4415)\n",
      "Twenty Years After by Alexandre Dumas (4406)\n",
      "Frankenstein; Or, The Modern Prometheus by Mary Wollstonecraft Shelley (17\n"
     ]
    }
   ],
   "source": [
    "#Use .text() method and print only first 2000 characters \n",
    "print(soup.text[:2000])"
   ]
  },
  {
   "cell_type": "code",
   "execution_count": 33,
   "id": "5b229132",
   "metadata": {},
   "outputs": [],
   "source": [
    "# Temp empty list of Ebook names\n",
    "lst_titles_temp=[]\n",
    "#List starts with A Room with a View by E. M.  Forster (6170)\n",
    "start_idx=soup.text.splitlines().index('A Room with a View by E. M.  Forster (6170)')\n",
    "for i in range(100):\n",
    "    lst_titles_temp.append(soup.text.splitlines()[start_idx+i])"
   ]
  },
  {
   "cell_type": "code",
   "execution_count": 34,
   "id": "2e54663c",
   "metadata": {},
   "outputs": [],
   "source": [
    "lst_titles=[]\n",
    "for i in range(100):\n",
    "    id1,id2=re.match('^[a-zA-Z ]*',lst_titles_temp[i]).span()\n",
    "    lst_titles.append(lst_titles_temp[i][id1:id2])"
   ]
  },
  {
   "cell_type": "code",
   "execution_count": 35,
   "id": "098ce964",
   "metadata": {},
   "outputs": [
    {
     "name": "stdout",
     "output_type": "stream",
     "text": [
      "A Room with a View by E\n",
      "Middlemarch by George Eliot \n",
      "Little Women\n",
      "The Enchanted April by Elizabeth Von Arnim \n",
      "The Blue Castle\n",
      "Moby Dick\n",
      "The Complete Works of William Shakespeare by William Shakespeare \n",
      "The Adventures of Ferdinand Count Fathom \n",
      "Cranford by Elizabeth Cleghorn Gaskell \n",
      "The Expedition of Humphry Clinker by T\n",
      "The Adventures of Roderick Random by T\n",
      "History of Tom Jones\n",
      "My Life \n",
      "Twenty Years After by Alexandre Dumas \n",
      "Frankenstein\n",
      "Pride and Prejudice by Jane Austen \n",
      "A Christmas Carol in Prose\n",
      "Pride and prejudice by Jane Austen \n",
      "Alice\n",
      "The Scarlet Letter by Nathaniel Hawthorne \n",
      "The Adventures of Sherlock Holmes by Arthur Conan Doyle \n",
      "Dracula by Bram Stoker \n",
      "The Picture of Dorian Gray by Oscar Wilde \n",
      "The Yellow Wallpaper by Charlotte Perkins Gilman \n",
      "A Tale of Two Cities by Charles Dickens \n",
      "The Strange Case of Dr\n",
      "A Modest Proposal by Jonathan Swift \n",
      "A Doll\n",
      "The Great Gatsby by F\n",
      "Noli Me Tangere by Jos\n",
      "Adventures of Huckleberry Finn by Mark Twain \n",
      "Black Nick\n",
      "Grimms\n",
      "The Importance of Being Earnest\n",
      "Jane Eyre\n",
      "Great Expectations by Charles Dickens \n",
      "Ulysses by James Joyce \n",
      "Crime and Punishment by Fyodor Dostoyevsky \n",
      "The Brothers Karamazov by Fyodor Dostoyevsky \n",
      "Metamorphosis by Franz Kafka \n",
      "The leading lady by Geraldine Bonner \n",
      "The Adventures of Tom Sawyer\n",
      "War and Peace by graf Leo Tolstoy \n",
      "Narrative of the Life of Frederick Douglass\n",
      "The Prince by Niccol\n",
      "The Count of Monte Cristo\n",
      "Treasure Island by Robert Louis Stevenson \n",
      "The Legend of Sleepy Hollow by Washington Irving \n",
      "Lord Lister No\n",
      "The Queen of Spades\n",
      "The nightless city\n",
      "The Souls of Black Folk by W\n",
      "Tractatus Logico\n",
      "Oliver Twist by Charles Dickens \n",
      "The Iliad by Homer \n",
      "Fiue Hundred Pointes of Good Husbandrie by Thomas Tusser \n",
      "A Study in Scarlet by Arthur Conan Doyle \n",
      "The Romance of Lust\n",
      "Heart of Darkness by Joseph Conrad \n",
      "The Hound of the Baskervilles by Arthur Conan Doyle \n",
      "The Time Machine by H\n",
      "Anne of Green Gables by L\n",
      "Little Women by Louisa May Alcott \n",
      "Carmilla by Joseph Sheridan Le Fanu \n",
      "Walden\n",
      "Emma by Jane Austen \n",
      "Wuthering Heights by Emily Bront\n",
      "The Republic by Plato \n",
      "Beyond Good and Evil by Friedrich Wilhelm Nietzsche \n",
      "The Philippines a Century Hence by Jos\n",
      "The War of the Worlds by H\n",
      "The Odyssey by Homer \n",
      "The Slang Dictionary\n",
      "Les Mis\n",
      "Leviathan by Thomas Hobbes \n",
      "The Jungle Book by Rudyard Kipling \n",
      "Calculus Made Easy by Silvanus P\n",
      "A Pickle for the Knowing Ones by Timothy Dexter \n",
      "Anna Karenina by graf Leo Tolstoy \n",
      "The Song of Songs\n",
      "The Prophet by Kahlil Gibran \n",
      "The Wonderful Wizard of Oz by L\n",
      "Prehistoric villages\n",
      "Don Quixote by Miguel de Cervantes Saavedra \n",
      "Peter Pan by J\n",
      "Dubliners by James Joyce \n",
      "Gulliver\n",
      "Letters of a Japanese schoolboy \n",
      "Sense and Sensibility by Jane Austen \n",
      "Old Granny Fox by Thornton W\n",
      "David Copperfield by Charles Dickens \n",
      "The Tragical History of Doctor Faustus by Christopher Marlowe \n",
      "The Radio Girls on Station Island\n",
      "Winnie\n",
      "The King in Yellow by Robert W\n",
      "Uncle Tom\n",
      "Beowulf\n",
      "Autobiography of Benjamin Franklin by Benjamin Franklin \n",
      "Second Treatise of Government by John Locke \n",
      "The King James Version of the Bible \n"
     ]
    }
   ],
   "source": [
    "for l in lst_titles:\n",
    "    print(l)"
   ]
  },
  {
   "cell_type": "markdown",
   "id": "4953f5cc",
   "metadata": {},
   "source": [
    "2. Data Wrangling with Python: Activity 10, page 295\n",
    "Build your own movie database by reading from an API\n"
   ]
  },
  {
   "cell_type": "code",
   "execution_count": 59,
   "id": "62268cf9",
   "metadata": {},
   "outputs": [],
   "source": [
    "import urllib.request, urllib.parse, urllib.error\n",
    "import json\n"
   ]
  },
  {
   "cell_type": "code",
   "execution_count": 60,
   "id": "487eee94",
   "metadata": {},
   "outputs": [],
   "source": [
    "#Load the secret API key (you have to get one from OMDB website and use that, 1000 daily limit) from a JSON file, stored in the same folder into a variable\n",
    "\n",
    "with open('/Users/vishnukolluri/Documents/VISHNU_CIS/DSC540/APIkey_Bogus_example.json') as f:\n",
    "    keys = json.load(f)\n",
    "    omdbapi = keys['OMDBapi']\n"
   ]
  },
  {
   "cell_type": "markdown",
   "id": "7b757407",
   "metadata": {},
   "source": [
    "The final URL to be passed should look like: http://www.omdbapi.com/?t=movie_name&apikey=secretapikey\n",
    "Do the following,\n",
    "\n",
    "Assign the OMDB portal (http://www.omdbapi.com/?) as a string to a variable serviceurl (don't miss the ?)\n",
    "Create a variable apikey with the last portion of the URL (\"&apikey=secretapikey\"), where secretapikey is your own API key (an actual code)\n",
    "The movie name portion i.e. \"t=movie_name\" will be addressed later"
   ]
  },
  {
   "cell_type": "code",
   "execution_count": 61,
   "id": "648fb880",
   "metadata": {},
   "outputs": [],
   "source": [
    "serviceurl = 'http://www.omdbapi.com/?'\n",
    "apikey = '&apikey='+omdbapi"
   ]
  },
  {
   "cell_type": "markdown",
   "id": "208fb4a9",
   "metadata": {},
   "source": [
    "Write a utility function print_json to print nicely the movie data from a JSON file (which we will get from the portal)\n",
    "Here are the keys of a JSON file,\n",
    "\n",
    "'Title', 'Year', 'Rated', 'Released', 'Runtime', 'Genre', 'Director', 'Writer', 'Actors', 'Plot', 'Language','Country', 'Awards', 'Ratings', 'Metascore', 'imdbRating', 'imdbVotes', 'imdbID'"
   ]
  },
  {
   "cell_type": "markdown",
   "id": "864d71cf",
   "metadata": {},
   "source": [
    "Write a utility function to download a poster of the movie based on the information from the jason dataset and save in your local folder"
   ]
  },
  {
   "cell_type": "code",
   "execution_count": 69,
   "id": "e21b7e66",
   "metadata": {},
   "outputs": [],
   "source": [
    "# Write utility function called print_json to print the movie data from a JSON file(which we will get from the portal)\n",
    "\n",
    "def print_json(json_data):\n",
    "    mov_keys=['Title', 'Year', 'Rated', 'Released', 'Runtime', 'Genre', 'Director', 'Writer', \n",
    "              'Actors', 'Plot', 'Language', 'Country', 'Awards', 'Ratings', \n",
    "              'Metascore', 'imdbRating', 'imdbVotes', 'imdbID']\n",
    "    for k in mov_keys:                            # Itterate over list of features\n",
    "        if k in list(json_data.keys()):           # If movie has that feature, print it\n",
    "            print(f\"{k}: {json_data[k]}\")"
   ]
  },
  {
   "cell_type": "code",
   "execution_count": 70,
   "id": "0cd15e43",
   "metadata": {},
   "outputs": [],
   "source": [
    "# Write utility function to download a poster\n",
    "\n",
    "def dwnld_poster(json_data):\n",
    "    title = json_data['Title']\n",
    "    poster_url = json_data['Poster']\n",
    "    \n",
    "    # Get the file extension\n",
    "    file_ext=poster_url.split('.')[-1]\n",
    "    \n",
    "    # Read image from web\n",
    "    poster_data=urllib.request.urlopen(poster_url).read()\n",
    "    \n",
    "    # Get the location in computer to store the poster file\n",
    "    savelocation=os.getcwd()+'\\\\'+'Posters'+'\\\\'\n",
    "    \n",
    "    # Create new directory if the directory does not exist\n",
    "    if not os.path.isdir(savelocation):\n",
    "        os.mkdir(savelocation)\n",
    "    \n",
    "    filename=savelocation+str(title)+'.'+file_ext     # Get the file name/location\n",
    "    f=open(filename, 'wb')                            # Open file in write mode\n",
    "    f.write(poster_data)                              # Write web data into the file\n",
    "    f.close()                                         # Close the file\n",
    "    "
   ]
  },
  {
   "cell_type": "code",
   "execution_count": 73,
   "id": "2a08e1d9",
   "metadata": {},
   "outputs": [],
   "source": [
    "# Write a function to search a movie by its name\n",
    "\n",
    "def search_movie(title):\n",
    "    try:\n",
    "        url = serviceurl + urllib.parse.urlencode({'t': str(title)})+apikey   \n",
    "        print(url)                                                      \n",
    "        ureq = urllib.request.urlopen(url)                              \n",
    "        url_data = ureq.read()    \n",
    "        # Load the data into JSON format\n",
    "        json_data = json.loads(url_data)                                \n",
    "        \n",
    "        # Check the response\n",
    "        if json_data['Response']=='True':\n",
    "            print_json(json_data)                                       \n",
    "            \n",
    "            # Check to download poster\n",
    "            if json_data['Poster']!='N/A':\n",
    "                dwnld_poster(json_data)                                 \n",
    "        \n",
    "        else:\n",
    "            print('Error Occurred: ',json_data['Error'])                \n",
    "    \n",
    "    except urllib.error.URLError as e:                                \n",
    "        print(f\"Error: {e.reason}\")"
   ]
  },
  {
   "cell_type": "code",
   "execution_count": 86,
   "id": "ccddf830",
   "metadata": {},
   "outputs": [
    {
     "name": "stdout",
     "output_type": "stream",
     "text": [
      "http://www.omdbapi.com/?t=RRR&apikey=db052d38\n",
      "Title: RRR\n",
      "Year: 2022\n",
      "Rated: Not Rated\n",
      "Released: 25 Mar 2022\n",
      "Runtime: 187 min\n",
      "Genre: Action, Drama\n",
      "Director: S.S. Rajamouli\n",
      "Writer: Vijayendra Prasad, S.S. Rajamouli, Sai Madhav Burra\n",
      "Actors: N.T. Rama Rao Jr., Ram Charan Teja, Ajay Devgn\n",
      "Plot: A fictitious story about two legendary revolutionaries and their journey away from home before they started fighting for their country in the 1920s.\n",
      "Language: Telugu, English\n",
      "Country: India\n",
      "Awards: 3 wins & 4 nominations\n",
      "Ratings: [{'Source': 'Internet Movie Database', 'Value': '8.0/10'}, {'Source': 'Rotten Tomatoes', 'Value': '93%'}, {'Source': 'Metacritic', 'Value': '83/100'}]\n",
      "Metascore: 83\n",
      "imdbRating: 8.0\n",
      "imdbVotes: 114,084\n",
      "imdbID: tt8178634\n"
     ]
    }
   ],
   "source": [
    "search_movie(\"RRR\")"
   ]
  },
  {
   "cell_type": "code",
   "execution_count": 87,
   "id": "ef74bc80",
   "metadata": {},
   "outputs": [
    {
     "name": "stdout",
     "output_type": "stream",
     "text": [
      "http://www.omdbapi.com/?t=Random_error&apikey=db052d38\n",
      "Error Occurred:  Movie not found!\n"
     ]
    }
   ],
   "source": [
    "search_movie(\"Random_error\")"
   ]
  },
  {
   "cell_type": "markdown",
   "id": "6f37a689",
   "metadata": {},
   "source": [
    "##Connect to the Twitter API and do a simple data pull\n",
    "\n",
    "a. If you don’t have a twitter account – create one at twitter.com/signup (you can delete the account after this assignment)\n",
    "b. Sign in to apps.twitter.com\n",
    "c. Click “Create New App”\n",
    "d. Give your app a name and description\n",
    "e. Agree to the developer agreement – you will want to make sure to indicate this is for a class project, and this step can take several days to get through, so don’t wait until last minute to complete this portion of the assignment\n",
    "f. Create an access token\n",
    "g. You should receive a consumer key and a token\n",
    "h. Using either the instructions from the book on connecting to an API or for help look here – pull back data searching for “Bellevue University” and “Data Science” (or something else you are interested in)"
   ]
  },
  {
   "cell_type": "code",
   "execution_count": 93,
   "id": "811e3dff",
   "metadata": {},
   "outputs": [
    {
     "name": "stdout",
     "output_type": "stream",
     "text": [
      "Requirement already satisfied: python-twitter in /Users/vishnukolluri/opt/anaconda3/lib/python3.9/site-packages (3.5)\r\n",
      "Requirement already satisfied: requests-oauthlib in /Users/vishnukolluri/opt/anaconda3/lib/python3.9/site-packages (from python-twitter) (1.3.1)\r\n",
      "Requirement already satisfied: future in /Users/vishnukolluri/opt/anaconda3/lib/python3.9/site-packages (from python-twitter) (0.18.2)\r\n",
      "Requirement already satisfied: requests in /Users/vishnukolluri/opt/anaconda3/lib/python3.9/site-packages (from python-twitter) (2.26.0)\r\n",
      "Requirement already satisfied: charset-normalizer~=2.0.0 in /Users/vishnukolluri/opt/anaconda3/lib/python3.9/site-packages (from requests->python-twitter) (2.0.4)\r\n",
      "Requirement already satisfied: urllib3<1.27,>=1.21.1 in /Users/vishnukolluri/opt/anaconda3/lib/python3.9/site-packages (from requests->python-twitter) (1.26.7)\r\n",
      "Requirement already satisfied: certifi>=2017.4.17 in /Users/vishnukolluri/opt/anaconda3/lib/python3.9/site-packages (from requests->python-twitter) (2021.10.8)\r\n",
      "Requirement already satisfied: idna<4,>=2.5 in /Users/vishnukolluri/opt/anaconda3/lib/python3.9/site-packages (from requests->python-twitter) (3.2)\r\n",
      "Requirement already satisfied: oauthlib>=3.0.0 in /Users/vishnukolluri/opt/anaconda3/lib/python3.9/site-packages (from requests-oauthlib->python-twitter) (3.2.2)\r\n"
     ]
    }
   ],
   "source": [
    "!pip install python-twitter\n"
   ]
  },
  {
   "cell_type": "code",
   "execution_count": 1,
   "id": "fc9f974b",
   "metadata": {},
   "outputs": [
    {
     "ename": "NameError",
     "evalue": "name 'twitter' is not defined",
     "output_type": "error",
     "traceback": [
      "\u001b[0;31m---------------------------------------------------------------------------\u001b[0m",
      "\u001b[0;31mNameError\u001b[0m                                 Traceback (most recent call last)",
      "\u001b[0;32m/var/folders/xh/vg90cjvs4txcrzhd8sft3m800000gn/T/ipykernel_8707/1163483976.py\u001b[0m in \u001b[0;36m<module>\u001b[0;34m\u001b[0m\n\u001b[1;32m      1\u001b[0m \u001b[0;31m#import twitter\u001b[0m\u001b[0;34m\u001b[0m\u001b[0;34m\u001b[0m\u001b[0m\n\u001b[0;32m----> 2\u001b[0;31m api = twitter.Api(consumer_key='wnLqhUyjDaVsTIe4QPtAl6GlI', \n\u001b[0m\u001b[1;32m      3\u001b[0m                   \u001b[0mconsumer_secret\u001b[0m\u001b[0;34m=\u001b[0m\u001b[0;34m'krnOiPUlDetKC8zNQFvRRabaZN4fRfqJWkngUsVV1rI3gZjrDR'\u001b[0m\u001b[0;34m,\u001b[0m\u001b[0;34m\u001b[0m\u001b[0;34m\u001b[0m\u001b[0m\n\u001b[1;32m      4\u001b[0m                  \u001b[0maccess_token_key\u001b[0m\u001b[0;34m=\u001b[0m\u001b[0;34m'1591884393248968704-h0PHYXzcL4DaiuUo6XwkN5Gl1JXV5I'\u001b[0m\u001b[0;34m,\u001b[0m\u001b[0;34m\u001b[0m\u001b[0;34m\u001b[0m\u001b[0m\n\u001b[1;32m      5\u001b[0m                  access_token_secret='t5VL03UGIx0kjW0dhhpMHJ36c2vwCooD5nEwaFPKSklKY')\n",
      "\u001b[0;31mNameError\u001b[0m: name 'twitter' is not defined"
     ]
    }
   ],
   "source": [
    "#import twitter\n",
    "api = twitter.Api(consumer_key='wnLqhUyjDaVsTIe4QPtAl6GlI', \n",
    "                  consumer_secret='krnOiPUlDetKC8zNQFvRRabaZN4fRfqJWkngUsVV1rI3gZjrDR',\n",
    "                 access_token_key='1591884393248968704-h0PHYXzcL4DaiuUo6XwkN5Gl1JXV5I',\n",
    "                 access_token_secret='t5VL03UGIx0kjW0dhhpMHJ36c2vwCooD5nEwaFPKSklKY')\n"
   ]
  },
  {
   "cell_type": "code",
   "execution_count": 96,
   "id": "0576ce52",
   "metadata": {},
   "outputs": [
    {
     "name": "stdout",
     "output_type": "stream",
     "text": [
      "{\"created_at\": \"Sun Nov 13 20:03:32 +0000 2022\", \"default_profile\": true, \"description\": \"I am student created account for a project\", \"friends_count\": 1, \"id\": 1591884393248968704, \"id_str\": \"1591884393248968704\", \"name\": \"Kolluri vishnu\", \"profile_background_color\": \"F5F8FA\", \"profile_image_url\": \"http://pbs.twimg.com/profile_images/1591884490225352704/ZdS2abeO_normal.png\", \"profile_image_url_https\": \"https://pbs.twimg.com/profile_images/1591884490225352704/ZdS2abeO_normal.png\", \"profile_link_color\": \"1DA1F2\", \"profile_sidebar_border_color\": \"C0DEED\", \"profile_sidebar_fill_color\": \"DDEEF6\", \"profile_text_color\": \"333333\", \"profile_use_background_image\": true, \"screen_name\": \"VishnuKolluri\", \"withheld_in_countries\": []}\n"
     ]
    }
   ],
   "source": [
    "print(api.VerifyCredentials())"
   ]
  },
  {
   "cell_type": "code",
   "execution_count": 99,
   "id": "19485123",
   "metadata": {},
   "outputs": [
    {
     "data": {
      "text/plain": [
       "[Status(ID=1591848871508217857, ScreenName=BellevueU, Created=Sun Nov 13 17:42:00 +0000 2022, Text=\"In dedication of her late husband, Debra Parsow founded and continues to care for Omaha's Elmwood Park playground.… https://t.co/e2bcE1zbYw\"),\n",
       " Status(ID=1591772627831762945, ScreenName=EduTeacherJobs, Created=Sun Nov 13 12:39:02 +0000 2022, Text='Peer Tutor - Graduate Statistics: Bellevue University (Bellevue, NE) https://t.co/C2YLEwL3YA'),\n",
       " Status(ID=1591770751149166593, ScreenName=EduTeacherJobs, Created=Sun Nov 13 12:31:35 +0000 2022, Text='Peer Tutor - Graduate Accounting: Bellevue University (Bellevue, NE) https://t.co/TOYvtewqff'),\n",
       " Status(ID=1591769234954416129, ScreenName=EduTeacherJobs, Created=Sun Nov 13 12:25:33 +0000 2022, Text='Peer Tutor - Finance: Bellevue University (Bellevue, NE) https://t.co/ayPxeFKD8i'),\n",
       " Status(ID=1591767596608946176, ScreenName=EduTeacherJobs, Created=Sun Nov 13 12:19:03 +0000 2022, Text='Peer Tutor - Data Science: Bellevue University (Bellevue, NE) https://t.co/bKDPn9E2Dj'),\n",
       " Status(ID=1591687989998096385, ScreenName=BeuteeNet_Store, Created=Sun Nov 13 07:02:43 +0000 2022, Text='Bellevue University Est 1966 Alumni Shirt Hoodie 😍\\n \\n💰 Only $17.99\\n \\n🌐 Buy Now: https://t.co/Dxjb7MKpjF\\n\\n #beutee… https://t.co/yuceQEyUXQ'),\n",
       " Status(ID=1591620878789328896, ScreenName=LaCrosseTribune, Created=Sun Nov 13 02:36:03 +0000 2022, Text='WATERTOWN, S.D. — The Viterbo University women’s volleyball team avenged a recent loss to Bellevue to capture its f… https://t.co/MAxTmuGl9N'),\n",
       " Status(ID=1591556455265882112, ScreenName=Midland_Sports, Created=Sat Nov 12 22:20:03 +0000 2022, Text='RT @Midland_Hoops: GAMEDAY!! Second day of the Bellevue Classic!\\n🆚 Bellevue University\\n📍 Bellevue University\\n ⏰\\xa0\\xa04:00\\n 🗺️\\xa0\\xa0Bellevue, NE\\n 💻…'),\n",
       " Status(ID=1591491941354594304, ScreenName=Tyler_Erwin, Created=Sat Nov 12 18:03:41 +0000 2022, Text='RT @Midland_Hoops: GAMEDAY!! Second day of the Bellevue Classic!\\n🆚 Bellevue University\\n📍 Bellevue University\\n ⏰\\xa0\\xa04:00\\n 🗺️\\xa0\\xa0Bellevue, NE\\n 💻…'),\n",
       " Status(ID=1591472313203040261, ScreenName=Slab1981, Created=Sat Nov 12 16:45:42 +0000 2022, Text='RT @Midland_Hoops: GAMEDAY!! Second day of the Bellevue Classic!\\n🆚 Bellevue University\\n📍 Bellevue University\\n ⏰\\xa0\\xa04:00\\n 🗺️\\xa0\\xa0Bellevue, NE\\n 💻…')]"
      ]
     },
     "execution_count": 99,
     "metadata": {},
     "output_type": "execute_result"
    }
   ],
   "source": [
    "# Search tweets containing 'Bellevue University'\n",
    "\n",
    "api.GetSearch(term='Bellevue University', since=2022-1-1, count=10)"
   ]
  },
  {
   "cell_type": "code",
   "execution_count": 101,
   "id": "c72106d1",
   "metadata": {
    "scrolled": true
   },
   "outputs": [
    {
     "data": {
      "text/plain": [
       "[Status(ID=1591506697910374401, ScreenName=OccupyDemocrats, Created=Sat Nov 12 19:02:20 +0000 2022, Text='BREAKING: Horror legend Stephen King tweets that he “liked Twitter better in the pre-Musk days,” Musk replies with… https://t.co/HcOI0HhXoc'),\n",
       " Status(ID=1591703938159775745, ScreenName=JimMFelton, Created=Sun Nov 13 08:06:05 +0000 2022, Text='Elon Musk slowly finding out the most basic information about the platform he bought by getting fact-checked on it https://t.co/fQzpprbglP'),\n",
       " Status(ID=1591686071653654531, ScreenName=HanaMichels, Created=Sun Nov 13 06:55:06 +0000 2022, Text='My son, Elon Musk, loved to go down to the mines to tell the other children to work harder. Such a great manager!'),\n",
       " Status(ID=1591931107217666049, ScreenName=JimNE_Krickets, Created=Sun Nov 13 23:08:47 +0000 2022, Text=\"RT @stltoday: Opinion columnist Kevin McDermott writes Musk's Twitter moves are a a reminder that membership in the billionaires’ club does…\"),\n",
       " Status(ID=1591931106315624450, ScreenName=yoongicatboy, Created=Sun Nov 13 23:08:47 +0000 2022, Text=\"RT @mxxnchild_x: he's pro israel, zionist, apartheid supporter, genocide supporter, trump supporter , reagan supporter, homophobic and a el…\"),\n",
       " Status(ID=1591931106068205569, ScreenName=HHS070170, Created=Sun Nov 13 23:08:46 +0000 2022, Text='RT @RVAwonk: Elon Musk may want to do his homework before mouthing off to Ed Markey. \\n\\nThis was…not a wise move. To say the least. https://…'),\n",
       " Status(ID=1591931105564889091, ScreenName=PrSalomaoCarval, Created=Sun Nov 13 23:08:46 +0000 2022, Text='RT @TradutordoBR: Tucker: O governo Biden quer investigar Elon Musk. 🇺🇸🇧🇷\\n\\nCompartilhem esse vídeo, é muito importante. https://t.co/tkXn0o…'),\n",
       " Status(ID=1591931102549409793, ScreenName=InTime499, Created=Sun Nov 13 23:08:46 +0000 2022, Text='RT @AmoneyResists: Holy shit. @SenMarkey just torched Musk. https://t.co/mmBWIxF7Op'),\n",
       " Status(ID=1591931101131464706, ScreenName=AntheosBanelli, Created=Sun Nov 13 23:08:45 +0000 2022, Text='RT @disinformatico: Ennesimo esempio di infantilismo di Elon Musk.\\n\\nCi ha promesso Marte, ci ha dato battibecchi e rotto Twitter.'),\n",
       " Status(ID=1591931097755144194, ScreenName=SWEETPOTAT0314, Created=Sun Nov 13 23:08:45 +0000 2022, Text='RT @TheAtlantic: \"The memes that lived within and emerged from Black Twitter helped reveal the racial disparities that defined much of the…')]"
      ]
     },
     "execution_count": 101,
     "metadata": {},
     "output_type": "execute_result"
    }
   ],
   "source": [
    "# Search tweets containing 'Musk'\n",
    "\n",
    "api.GetSearch(term=\"Musk\", since=2022-1-1, count=10)"
   ]
  },
  {
   "cell_type": "markdown",
   "id": "2268aa45",
   "metadata": {},
   "source": [
    "Using one of the datasets provided in Weeks 7 & 8, or a dataset of your own, choose 3 of the following visualizations to complete. You must submit via PDF along with your code. You are free to use Matplotlib, Seaborn or another package if you prefer.\n",
    "a. Line\n",
    "b. Scatter\n",
    "c. Bar\n",
    "d. Histogram\n",
    "e. Density Plot\n",
    "f. Pie Chart"
   ]
  },
  {
   "cell_type": "code",
   "execution_count": 102,
   "id": "c1132561",
   "metadata": {},
   "outputs": [],
   "source": [
    "df = pd.read_csv('/Users/vishnukolluri/Documents/VISHNU_CIS/DSC540/Boston_housing.csv')"
   ]
  },
  {
   "cell_type": "code",
   "execution_count": 103,
   "id": "e62e3527",
   "metadata": {},
   "outputs": [
    {
     "data": {
      "text/html": [
       "<div>\n",
       "<style scoped>\n",
       "    .dataframe tbody tr th:only-of-type {\n",
       "        vertical-align: middle;\n",
       "    }\n",
       "\n",
       "    .dataframe tbody tr th {\n",
       "        vertical-align: top;\n",
       "    }\n",
       "\n",
       "    .dataframe thead th {\n",
       "        text-align: right;\n",
       "    }\n",
       "</style>\n",
       "<table border=\"1\" class=\"dataframe\">\n",
       "  <thead>\n",
       "    <tr style=\"text-align: right;\">\n",
       "      <th></th>\n",
       "      <th>CRIM</th>\n",
       "      <th>ZN</th>\n",
       "      <th>INDUS</th>\n",
       "      <th>CHAS</th>\n",
       "      <th>NOX</th>\n",
       "      <th>RM</th>\n",
       "      <th>AGE</th>\n",
       "      <th>DIS</th>\n",
       "      <th>RAD</th>\n",
       "      <th>TAX</th>\n",
       "      <th>PTRATIO</th>\n",
       "      <th>B</th>\n",
       "      <th>LSTAT</th>\n",
       "      <th>PRICE</th>\n",
       "    </tr>\n",
       "  </thead>\n",
       "  <tbody>\n",
       "    <tr>\n",
       "      <th>count</th>\n",
       "      <td>506.000000</td>\n",
       "      <td>506.000000</td>\n",
       "      <td>506.000000</td>\n",
       "      <td>506.000000</td>\n",
       "      <td>506.000000</td>\n",
       "      <td>506.000000</td>\n",
       "      <td>506.000000</td>\n",
       "      <td>506.000000</td>\n",
       "      <td>506.000000</td>\n",
       "      <td>506.000000</td>\n",
       "      <td>506.000000</td>\n",
       "      <td>506.000000</td>\n",
       "      <td>506.000000</td>\n",
       "      <td>506.000000</td>\n",
       "    </tr>\n",
       "    <tr>\n",
       "      <th>mean</th>\n",
       "      <td>3.593761</td>\n",
       "      <td>11.363636</td>\n",
       "      <td>11.136779</td>\n",
       "      <td>0.069170</td>\n",
       "      <td>0.554695</td>\n",
       "      <td>6.284634</td>\n",
       "      <td>68.574901</td>\n",
       "      <td>3.795043</td>\n",
       "      <td>9.549407</td>\n",
       "      <td>408.237154</td>\n",
       "      <td>18.455534</td>\n",
       "      <td>356.674032</td>\n",
       "      <td>12.653063</td>\n",
       "      <td>22.532806</td>\n",
       "    </tr>\n",
       "    <tr>\n",
       "      <th>std</th>\n",
       "      <td>8.596783</td>\n",
       "      <td>23.322453</td>\n",
       "      <td>6.860353</td>\n",
       "      <td>0.253994</td>\n",
       "      <td>0.115878</td>\n",
       "      <td>0.702617</td>\n",
       "      <td>28.148861</td>\n",
       "      <td>2.105710</td>\n",
       "      <td>8.707259</td>\n",
       "      <td>168.537116</td>\n",
       "      <td>2.164946</td>\n",
       "      <td>91.294864</td>\n",
       "      <td>7.141062</td>\n",
       "      <td>9.197104</td>\n",
       "    </tr>\n",
       "    <tr>\n",
       "      <th>min</th>\n",
       "      <td>0.006320</td>\n",
       "      <td>0.000000</td>\n",
       "      <td>0.460000</td>\n",
       "      <td>0.000000</td>\n",
       "      <td>0.385000</td>\n",
       "      <td>3.561000</td>\n",
       "      <td>2.900000</td>\n",
       "      <td>1.129600</td>\n",
       "      <td>1.000000</td>\n",
       "      <td>187.000000</td>\n",
       "      <td>12.600000</td>\n",
       "      <td>0.320000</td>\n",
       "      <td>1.730000</td>\n",
       "      <td>5.000000</td>\n",
       "    </tr>\n",
       "    <tr>\n",
       "      <th>25%</th>\n",
       "      <td>0.082045</td>\n",
       "      <td>0.000000</td>\n",
       "      <td>5.190000</td>\n",
       "      <td>0.000000</td>\n",
       "      <td>0.449000</td>\n",
       "      <td>5.885500</td>\n",
       "      <td>45.025000</td>\n",
       "      <td>2.100175</td>\n",
       "      <td>4.000000</td>\n",
       "      <td>279.000000</td>\n",
       "      <td>17.400000</td>\n",
       "      <td>375.377500</td>\n",
       "      <td>6.950000</td>\n",
       "      <td>17.025000</td>\n",
       "    </tr>\n",
       "    <tr>\n",
       "      <th>50%</th>\n",
       "      <td>0.256510</td>\n",
       "      <td>0.000000</td>\n",
       "      <td>9.690000</td>\n",
       "      <td>0.000000</td>\n",
       "      <td>0.538000</td>\n",
       "      <td>6.208500</td>\n",
       "      <td>77.500000</td>\n",
       "      <td>3.207450</td>\n",
       "      <td>5.000000</td>\n",
       "      <td>330.000000</td>\n",
       "      <td>19.050000</td>\n",
       "      <td>391.440000</td>\n",
       "      <td>11.360000</td>\n",
       "      <td>21.200000</td>\n",
       "    </tr>\n",
       "    <tr>\n",
       "      <th>75%</th>\n",
       "      <td>3.647423</td>\n",
       "      <td>12.500000</td>\n",
       "      <td>18.100000</td>\n",
       "      <td>0.000000</td>\n",
       "      <td>0.624000</td>\n",
       "      <td>6.623500</td>\n",
       "      <td>94.075000</td>\n",
       "      <td>5.188425</td>\n",
       "      <td>24.000000</td>\n",
       "      <td>666.000000</td>\n",
       "      <td>20.200000</td>\n",
       "      <td>396.225000</td>\n",
       "      <td>16.955000</td>\n",
       "      <td>25.000000</td>\n",
       "    </tr>\n",
       "    <tr>\n",
       "      <th>max</th>\n",
       "      <td>88.976200</td>\n",
       "      <td>100.000000</td>\n",
       "      <td>27.740000</td>\n",
       "      <td>1.000000</td>\n",
       "      <td>0.871000</td>\n",
       "      <td>8.780000</td>\n",
       "      <td>100.000000</td>\n",
       "      <td>12.126500</td>\n",
       "      <td>24.000000</td>\n",
       "      <td>711.000000</td>\n",
       "      <td>22.000000</td>\n",
       "      <td>396.900000</td>\n",
       "      <td>37.970000</td>\n",
       "      <td>50.000000</td>\n",
       "    </tr>\n",
       "  </tbody>\n",
       "</table>\n",
       "</div>"
      ],
      "text/plain": [
       "             CRIM          ZN       INDUS        CHAS         NOX          RM  \\\n",
       "count  506.000000  506.000000  506.000000  506.000000  506.000000  506.000000   \n",
       "mean     3.593761   11.363636   11.136779    0.069170    0.554695    6.284634   \n",
       "std      8.596783   23.322453    6.860353    0.253994    0.115878    0.702617   \n",
       "min      0.006320    0.000000    0.460000    0.000000    0.385000    3.561000   \n",
       "25%      0.082045    0.000000    5.190000    0.000000    0.449000    5.885500   \n",
       "50%      0.256510    0.000000    9.690000    0.000000    0.538000    6.208500   \n",
       "75%      3.647423   12.500000   18.100000    0.000000    0.624000    6.623500   \n",
       "max     88.976200  100.000000   27.740000    1.000000    0.871000    8.780000   \n",
       "\n",
       "              AGE         DIS         RAD         TAX     PTRATIO           B  \\\n",
       "count  506.000000  506.000000  506.000000  506.000000  506.000000  506.000000   \n",
       "mean    68.574901    3.795043    9.549407  408.237154   18.455534  356.674032   \n",
       "std     28.148861    2.105710    8.707259  168.537116    2.164946   91.294864   \n",
       "min      2.900000    1.129600    1.000000  187.000000   12.600000    0.320000   \n",
       "25%     45.025000    2.100175    4.000000  279.000000   17.400000  375.377500   \n",
       "50%     77.500000    3.207450    5.000000  330.000000   19.050000  391.440000   \n",
       "75%     94.075000    5.188425   24.000000  666.000000   20.200000  396.225000   \n",
       "max    100.000000   12.126500   24.000000  711.000000   22.000000  396.900000   \n",
       "\n",
       "            LSTAT       PRICE  \n",
       "count  506.000000  506.000000  \n",
       "mean    12.653063   22.532806  \n",
       "std      7.141062    9.197104  \n",
       "min      1.730000    5.000000  \n",
       "25%      6.950000   17.025000  \n",
       "50%     11.360000   21.200000  \n",
       "75%     16.955000   25.000000  \n",
       "max     37.970000   50.000000  "
      ]
     },
     "execution_count": 103,
     "metadata": {},
     "output_type": "execute_result"
    }
   ],
   "source": [
    "df.describe()"
   ]
  },
  {
   "cell_type": "code",
   "execution_count": 104,
   "id": "bedb493c",
   "metadata": {},
   "outputs": [
    {
     "name": "stdout",
     "output_type": "stream",
     "text": [
      "<class 'pandas.core.frame.DataFrame'>\n",
      "RangeIndex: 506 entries, 0 to 505\n",
      "Data columns (total 14 columns):\n",
      " #   Column   Non-Null Count  Dtype  \n",
      "---  ------   --------------  -----  \n",
      " 0   CRIM     506 non-null    float64\n",
      " 1   ZN       506 non-null    float64\n",
      " 2   INDUS    506 non-null    float64\n",
      " 3   CHAS     506 non-null    int64  \n",
      " 4   NOX      506 non-null    float64\n",
      " 5   RM       506 non-null    float64\n",
      " 6   AGE      506 non-null    float64\n",
      " 7   DIS      506 non-null    float64\n",
      " 8   RAD      506 non-null    int64  \n",
      " 9   TAX      506 non-null    int64  \n",
      " 10  PTRATIO  506 non-null    float64\n",
      " 11  B        506 non-null    float64\n",
      " 12  LSTAT    506 non-null    float64\n",
      " 13  PRICE    506 non-null    float64\n",
      "dtypes: float64(11), int64(3)\n",
      "memory usage: 55.5 KB\n"
     ]
    }
   ],
   "source": [
    "df.info()"
   ]
  },
  {
   "cell_type": "code",
   "execution_count": 105,
   "id": "d69466ba",
   "metadata": {},
   "outputs": [
    {
     "data": {
      "text/html": [
       "<div>\n",
       "<style scoped>\n",
       "    .dataframe tbody tr th:only-of-type {\n",
       "        vertical-align: middle;\n",
       "    }\n",
       "\n",
       "    .dataframe tbody tr th {\n",
       "        vertical-align: top;\n",
       "    }\n",
       "\n",
       "    .dataframe thead th {\n",
       "        text-align: right;\n",
       "    }\n",
       "</style>\n",
       "<table border=\"1\" class=\"dataframe\">\n",
       "  <thead>\n",
       "    <tr style=\"text-align: right;\">\n",
       "      <th></th>\n",
       "      <th>CRIM</th>\n",
       "      <th>ZN</th>\n",
       "      <th>INDUS</th>\n",
       "      <th>CHAS</th>\n",
       "      <th>NOX</th>\n",
       "      <th>RM</th>\n",
       "      <th>AGE</th>\n",
       "      <th>DIS</th>\n",
       "      <th>RAD</th>\n",
       "      <th>TAX</th>\n",
       "      <th>PTRATIO</th>\n",
       "      <th>B</th>\n",
       "      <th>LSTAT</th>\n",
       "      <th>PRICE</th>\n",
       "    </tr>\n",
       "  </thead>\n",
       "  <tbody>\n",
       "    <tr>\n",
       "      <th>0</th>\n",
       "      <td>0.00632</td>\n",
       "      <td>18.0</td>\n",
       "      <td>2.31</td>\n",
       "      <td>0</td>\n",
       "      <td>0.538</td>\n",
       "      <td>6.575</td>\n",
       "      <td>65.2</td>\n",
       "      <td>4.0900</td>\n",
       "      <td>1</td>\n",
       "      <td>296</td>\n",
       "      <td>15.3</td>\n",
       "      <td>396.90</td>\n",
       "      <td>4.98</td>\n",
       "      <td>24.0</td>\n",
       "    </tr>\n",
       "    <tr>\n",
       "      <th>1</th>\n",
       "      <td>0.02731</td>\n",
       "      <td>0.0</td>\n",
       "      <td>7.07</td>\n",
       "      <td>0</td>\n",
       "      <td>0.469</td>\n",
       "      <td>6.421</td>\n",
       "      <td>78.9</td>\n",
       "      <td>4.9671</td>\n",
       "      <td>2</td>\n",
       "      <td>242</td>\n",
       "      <td>17.8</td>\n",
       "      <td>396.90</td>\n",
       "      <td>9.14</td>\n",
       "      <td>21.6</td>\n",
       "    </tr>\n",
       "    <tr>\n",
       "      <th>2</th>\n",
       "      <td>0.02729</td>\n",
       "      <td>0.0</td>\n",
       "      <td>7.07</td>\n",
       "      <td>0</td>\n",
       "      <td>0.469</td>\n",
       "      <td>7.185</td>\n",
       "      <td>61.1</td>\n",
       "      <td>4.9671</td>\n",
       "      <td>2</td>\n",
       "      <td>242</td>\n",
       "      <td>17.8</td>\n",
       "      <td>392.83</td>\n",
       "      <td>4.03</td>\n",
       "      <td>34.7</td>\n",
       "    </tr>\n",
       "    <tr>\n",
       "      <th>3</th>\n",
       "      <td>0.03237</td>\n",
       "      <td>0.0</td>\n",
       "      <td>2.18</td>\n",
       "      <td>0</td>\n",
       "      <td>0.458</td>\n",
       "      <td>6.998</td>\n",
       "      <td>45.8</td>\n",
       "      <td>6.0622</td>\n",
       "      <td>3</td>\n",
       "      <td>222</td>\n",
       "      <td>18.7</td>\n",
       "      <td>394.63</td>\n",
       "      <td>2.94</td>\n",
       "      <td>33.4</td>\n",
       "    </tr>\n",
       "    <tr>\n",
       "      <th>4</th>\n",
       "      <td>0.06905</td>\n",
       "      <td>0.0</td>\n",
       "      <td>2.18</td>\n",
       "      <td>0</td>\n",
       "      <td>0.458</td>\n",
       "      <td>7.147</td>\n",
       "      <td>54.2</td>\n",
       "      <td>6.0622</td>\n",
       "      <td>3</td>\n",
       "      <td>222</td>\n",
       "      <td>18.7</td>\n",
       "      <td>396.90</td>\n",
       "      <td>5.33</td>\n",
       "      <td>36.2</td>\n",
       "    </tr>\n",
       "  </tbody>\n",
       "</table>\n",
       "</div>"
      ],
      "text/plain": [
       "      CRIM    ZN  INDUS  CHAS    NOX     RM   AGE     DIS  RAD  TAX  PTRATIO  \\\n",
       "0  0.00632  18.0   2.31     0  0.538  6.575  65.2  4.0900    1  296     15.3   \n",
       "1  0.02731   0.0   7.07     0  0.469  6.421  78.9  4.9671    2  242     17.8   \n",
       "2  0.02729   0.0   7.07     0  0.469  7.185  61.1  4.9671    2  242     17.8   \n",
       "3  0.03237   0.0   2.18     0  0.458  6.998  45.8  6.0622    3  222     18.7   \n",
       "4  0.06905   0.0   2.18     0  0.458  7.147  54.2  6.0622    3  222     18.7   \n",
       "\n",
       "        B  LSTAT  PRICE  \n",
       "0  396.90   4.98   24.0  \n",
       "1  396.90   9.14   21.6  \n",
       "2  392.83   4.03   34.7  \n",
       "3  394.63   2.94   33.4  \n",
       "4  396.90   5.33   36.2  "
      ]
     },
     "execution_count": 105,
     "metadata": {},
     "output_type": "execute_result"
    }
   ],
   "source": [
    "df.head()"
   ]
  },
  {
   "cell_type": "code",
   "execution_count": 109,
   "id": "7d3d1a9a",
   "metadata": {},
   "outputs": [
    {
     "data": {
      "image/png": "[encoded data removed]",
      "text/plain": [
       "<Figure size 1080x648 with 1 Axes>"
      ]
     },
     "metadata": {
      "needs_background": "light"
     },
     "output_type": "display_data"
    }
   ],
   "source": [
    "\n",
    "plt.figure(figsize=(15,9))\n",
    "plt.scatter(df.CRIM, df.PRICE,alpha=0.5)\n",
    "plt.title('Python - Scatter Plot')\n",
    "plt.xlabel(\"CRIME\")\n",
    "plt.ylabel(\"PRICE\");"
   ]
  },
  {
   "cell_type": "code",
   "execution_count": 116,
   "id": "4dea6190",
   "metadata": {},
   "outputs": [
    {
     "data": {
      "image/png": "[encoded data removed]",
      "text/plain": [
       "<Figure size 432x288 with 1 Axes>"
      ]
     },
     "metadata": {
      "needs_background": "light"
     },
     "output_type": "display_data"
    }
   ],
   "source": [
    "\n",
    "#Histogram\n",
    "df[['PRICE']].plot(kind='hist',bins=[0,10,20,30,40,50],rwidth=0.9)\n",
    "plt.title('Python - Histogram')\n",
    "plt.show()"
   ]
  },
  {
   "cell_type": "code",
   "execution_count": 117,
   "id": "24000280",
   "metadata": {},
   "outputs": [],
   "source": [
    "import seaborn as sns"
   ]
  },
  {
   "cell_type": "code",
   "execution_count": 118,
   "id": "9d2d7e13",
   "metadata": {},
   "outputs": [
    {
     "data": {
      "text/plain": [
       "[Text(0.5, 1.0, 'Python - Density Plot')]"
      ]
     },
     "execution_count": 118,
     "metadata": {},
     "output_type": "execute_result"
    },
    {
     "data": {
      "image/png": "[encoded data removed]",
      "text/plain": [
       "<Figure size 432x288 with 1 Axes>"
      ]
     },
     "metadata": {
      "needs_background": "light"
     },
     "output_type": "display_data"
    }
   ],
   "source": [
    "sns.kdeplot(df.AGE).set(title='Python - Density Plot')"
   ]
  },
  {
   "cell_type": "code",
   "execution_count": null,
   "id": "91327bd6",
   "metadata": {},
   "outputs": [],
   "source": []
  }
 ],
 "metadata": {
  "kernelspec": {
   "display_name": "Python 3 (ipykernel)",
   "language": "python",
   "name": "python3"
  },
  "language_info": {
   "codemirror_mode": {
    "name": "ipython",
    "version": 3
   },
   "file_extension": ".py",
   "mimetype": "text/x-python",
   "name": "python",
   "nbconvert_exporter": "python",
   "pygments_lexer": "ipython3",
   "version": "3.9.7"
  }
 },
 "nbformat": 4,
 "nbformat_minor": 5
}
