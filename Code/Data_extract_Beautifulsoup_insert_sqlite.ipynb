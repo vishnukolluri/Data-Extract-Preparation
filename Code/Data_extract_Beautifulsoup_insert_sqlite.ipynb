{
 "cells": [
  {
   "cell_type": "markdown",
   "id": "2d50b48e",
   "metadata": {},
   "source": [
    "Data Wrangling with Python: Activity 7, page 207 Lesson 05 Topic 02 Activity 01 In this activity you are given the Wikipedia page where we have the GDP of all countries listed and you are asked to create three data frames from the three sources mentioned in the page ( link - https://en.wikipedia.org/wiki/List_of_countries_by_GDP_(nominal) )\n",
    "You will have to -\n",
    "Open the page in a separate chrome/firefox tab and use something like inspect element tool to see the source HTML and understand the structure Read the page using bs4 Find the table structure you will need to deal with (how many tables are there) Find the right table using bs4 Separate the Source Names and their corresponding data Get the source names from the list of sources you have created Seperate the header and data from the data that you separated before. For the first source only. And then create a DataFrame using that Repeat the last task for the other two data sources."
   ]
  },
  {
   "cell_type": "code",
   "execution_count": 1,
   "id": "7d414fe3",
   "metadata": {},
   "outputs": [],
   "source": [
    "from bs4 import BeautifulSoup\n",
    "import pandas as pd\n",
    "fd = open(\"/Users/vishnukolluri/Downloads/List of countries by GDP (nominal) - Wikipedia.html\", \"r\")\n",
    "soup = BeautifulSoup(fd)\n",
    "fd.close()"
   ]
  },
  {
   "cell_type": "code",
   "execution_count": 2,
   "id": "a7416a2c",
   "metadata": {},
   "outputs": [
    {
     "name": "stdout",
     "output_type": "stream",
     "text": [
      "Total number of tables are 9 \n"
     ]
    }
   ],
   "source": [
    "#Find all the tables\n",
    "all_tables = soup.find_all(\"table\")\n",
    "print(\"Total number of tables are {} \".format(len(all_tables)))"
   ]
  },
  {
   "cell_type": "code",
   "execution_count": 3,
   "id": "23a1fd10",
   "metadata": {},
   "outputs": [
    {
     "name": "stdout",
     "output_type": "stream",
     "text": [
      "<class 'bs4.element.Tag'>\n"
     ]
    }
   ],
   "source": [
    "#Selecting required tables of type wikitable\n",
    "data_table = soup.find(\"table\", {\"class\": '\"wikitable\"|}'})\n",
    "print(type(data_table))"
   ]
  },
  {
   "cell_type": "code",
   "execution_count": 4,
   "id": "38bd4b74",
   "metadata": {},
   "outputs": [
    {
     "name": "stdout",
     "output_type": "stream",
     "text": [
      "3\n"
     ]
    }
   ],
   "source": [
    "\n",
    "sources = data_table.tbody.findAll('tr', recursive=False)[0]\n",
    "sources_list = [td for td in sources.findAll('td')]\n",
    "print(len(sources_list))"
   ]
  },
  {
   "cell_type": "code",
   "execution_count": 5,
   "id": "75b3da02",
   "metadata": {},
   "outputs": [],
   "source": [
    "data = data_table.tbody.findAll('tr', recursive=False)[1].findAll('td', recursive=False)"
   ]
  },
  {
   "cell_type": "code",
   "execution_count": 6,
   "id": "fe932c93",
   "metadata": {},
   "outputs": [],
   "source": [
    "data_tables = []\n",
    "for td in data:\n",
    "    data_tables.append(td.findAll('table'))"
   ]
  },
  {
   "cell_type": "code",
   "execution_count": 7,
   "id": "4c7ace9c",
   "metadata": {},
   "outputs": [
    {
     "data": {
      "text/plain": [
       "3"
      ]
     },
     "execution_count": 7,
     "metadata": {},
     "output_type": "execute_result"
    }
   ],
   "source": [
    "len(data_tables)"
   ]
  },
  {
   "cell_type": "code",
   "execution_count": 8,
   "id": "26831d8f",
   "metadata": {},
   "outputs": [
    {
     "name": "stdout",
     "output_type": "stream",
     "text": [
      "['International Monetary Fund', 'World Bank', 'United Nations']\n"
     ]
    }
   ],
   "source": [
    "source_names = [source.findAll('a')[0].getText() for source in sources_list]\n",
    "print(source_names)"
   ]
  },
  {
   "cell_type": "code",
   "execution_count": 9,
   "id": "21339890",
   "metadata": {},
   "outputs": [
    {
     "data": {
      "text/plain": [
       "['Rank', 'Country', 'GDP(US$MM)']"
      ]
     },
     "execution_count": 9,
     "metadata": {},
     "output_type": "execute_result"
    }
   ],
   "source": [
    "header1 = [th.getText().strip() for th in data_tables[0][0].findAll('thead')[0].findAll('th')]\n",
    "header1"
   ]
  },
  {
   "cell_type": "code",
   "execution_count": 10,
   "id": "f717b83e",
   "metadata": {},
   "outputs": [],
   "source": [
    "rows1 = data_tables[0][0].findAll('tbody')[0].findAll('tr')[1:]"
   ]
  },
  {
   "cell_type": "code",
   "execution_count": 11,
   "id": "b2cde2ad",
   "metadata": {},
   "outputs": [],
   "source": [
    "data_rows1 = [[td.get_text().strip() for td in tr.findAll('td')] for tr in rows1]"
   ]
  },
  {
   "cell_type": "code",
   "execution_count": 12,
   "id": "b314f9f9",
   "metadata": {},
   "outputs": [],
   "source": [
    "df1 = pd.DataFrame(data_rows1, columns=header1)"
   ]
  },
  {
   "cell_type": "code",
   "execution_count": 13,
   "id": "8287f403",
   "metadata": {},
   "outputs": [
    {
     "data": {
      "text/html": [
       "<div>\n",
       "<style scoped>\n",
       "    .dataframe tbody tr th:only-of-type {\n",
       "        vertical-align: middle;\n",
       "    }\n",
       "\n",
       "    .dataframe tbody tr th {\n",
       "        vertical-align: top;\n",
       "    }\n",
       "\n",
       "    .dataframe thead th {\n",
       "        text-align: right;\n",
       "    }\n",
       "</style>\n",
       "<table border=\"1\" class=\"dataframe\">\n",
       "  <thead>\n",
       "    <tr style=\"text-align: right;\">\n",
       "      <th></th>\n",
       "      <th>Rank</th>\n",
       "      <th>Country</th>\n",
       "      <th>GDP(US$MM)</th>\n",
       "    </tr>\n",
       "  </thead>\n",
       "  <tbody>\n",
       "    <tr>\n",
       "      <th>0</th>\n",
       "      <td>1</td>\n",
       "      <td>United States</td>\n",
       "      <td>19,390,600</td>\n",
       "    </tr>\n",
       "    <tr>\n",
       "      <th>1</th>\n",
       "      <td>2</td>\n",
       "      <td>China[n 1]</td>\n",
       "      <td>12,014,610</td>\n",
       "    </tr>\n",
       "    <tr>\n",
       "      <th>2</th>\n",
       "      <td>3</td>\n",
       "      <td>Japan</td>\n",
       "      <td>4,872,135</td>\n",
       "    </tr>\n",
       "    <tr>\n",
       "      <th>3</th>\n",
       "      <td>4</td>\n",
       "      <td>Germany</td>\n",
       "      <td>3,684,816</td>\n",
       "    </tr>\n",
       "    <tr>\n",
       "      <th>4</th>\n",
       "      <td>5</td>\n",
       "      <td>United Kingdom</td>\n",
       "      <td>2,624,529</td>\n",
       "    </tr>\n",
       "  </tbody>\n",
       "</table>\n",
       "</div>"
      ],
      "text/plain": [
       "  Rank         Country  GDP(US$MM)\n",
       "0    1   United States  19,390,600\n",
       "1    2      China[n 1]  12,014,610\n",
       "2    3           Japan   4,872,135\n",
       "3    4         Germany   3,684,816\n",
       "4    5  United Kingdom   2,624,529"
      ]
     },
     "execution_count": 13,
     "metadata": {},
     "output_type": "execute_result"
    }
   ],
   "source": [
    "df1.head()"
   ]
  },
  {
   "cell_type": "code",
   "execution_count": 14,
   "id": "cd5c9e83",
   "metadata": {},
   "outputs": [
    {
     "data": {
      "text/plain": [
       "['Rank', 'Country', 'GDP(US$MM)']"
      ]
     },
     "execution_count": 14,
     "metadata": {},
     "output_type": "execute_result"
    }
   ],
   "source": [
    "header2 = [th.getText().strip() for th in data_tables[1][0].findAll('thead')[0].findAll('th')]\n",
    "header2"
   ]
  },
  {
   "cell_type": "code",
   "execution_count": 15,
   "id": "e1d7a162",
   "metadata": {},
   "outputs": [],
   "source": [
    "rows2 = data_tables[1][0].findAll('tbody')[0].findAll('tr')[1:]"
   ]
  },
  {
   "cell_type": "code",
   "execution_count": 16,
   "id": "86b7228a",
   "metadata": {},
   "outputs": [],
   "source": [
    "def find_right_text(i, td):\n",
    "    if i == 0:\n",
    "        return td.getText().strip()\n",
    "    elif i == 1:\n",
    "        return td.getText().strip()\n",
    "    else:\n",
    "        index = td.text.find(\"♠\")\n",
    "        return td.text[index+1:].strip()"
   ]
  },
  {
   "cell_type": "code",
   "execution_count": 17,
   "id": "d51b5f3f",
   "metadata": {},
   "outputs": [],
   "source": [
    "data_rows2 = [[find_right_text(i, td) for i, td in enumerate(tr.findAll('td'))] for tr in rows2]"
   ]
  },
  {
   "cell_type": "code",
   "execution_count": 18,
   "id": "0768fa50",
   "metadata": {},
   "outputs": [],
   "source": [
    "df2 = pd.DataFrame(data_rows2, columns=header2)"
   ]
  },
  {
   "cell_type": "code",
   "execution_count": 19,
   "id": "fe09ea66",
   "metadata": {},
   "outputs": [
    {
     "data": {
      "text/html": [
       "<div>\n",
       "<style scoped>\n",
       "    .dataframe tbody tr th:only-of-type {\n",
       "        vertical-align: middle;\n",
       "    }\n",
       "\n",
       "    .dataframe tbody tr th {\n",
       "        vertical-align: top;\n",
       "    }\n",
       "\n",
       "    .dataframe thead th {\n",
       "        text-align: right;\n",
       "    }\n",
       "</style>\n",
       "<table border=\"1\" class=\"dataframe\">\n",
       "  <thead>\n",
       "    <tr style=\"text-align: right;\">\n",
       "      <th></th>\n",
       "      <th>Rank</th>\n",
       "      <th>Country</th>\n",
       "      <th>GDP(US$MM)</th>\n",
       "    </tr>\n",
       "  </thead>\n",
       "  <tbody>\n",
       "    <tr>\n",
       "      <th>0</th>\n",
       "      <td>1</td>\n",
       "      <td>United States</td>\n",
       "      <td>19,390,604</td>\n",
       "    </tr>\n",
       "    <tr>\n",
       "      <th>1</th>\n",
       "      <td></td>\n",
       "      <td>European Union[23]</td>\n",
       "      <td>17,277,698</td>\n",
       "    </tr>\n",
       "    <tr>\n",
       "      <th>2</th>\n",
       "      <td>2</td>\n",
       "      <td>China[n 4]</td>\n",
       "      <td>12,237,700</td>\n",
       "    </tr>\n",
       "    <tr>\n",
       "      <th>3</th>\n",
       "      <td>3</td>\n",
       "      <td>Japan</td>\n",
       "      <td>4,872,137</td>\n",
       "    </tr>\n",
       "    <tr>\n",
       "      <th>4</th>\n",
       "      <td>4</td>\n",
       "      <td>Germany</td>\n",
       "      <td>3,677,439</td>\n",
       "    </tr>\n",
       "  </tbody>\n",
       "</table>\n",
       "</div>"
      ],
      "text/plain": [
       "  Rank             Country  GDP(US$MM)\n",
       "0    1       United States  19,390,604\n",
       "1       European Union[23]  17,277,698\n",
       "2    2          China[n 4]  12,237,700\n",
       "3    3               Japan   4,872,137\n",
       "4    4             Germany   3,677,439"
      ]
     },
     "execution_count": 19,
     "metadata": {},
     "output_type": "execute_result"
    }
   ],
   "source": [
    "df2.head()"
   ]
  },
  {
   "cell_type": "code",
   "execution_count": 25,
   "id": "5936abac",
   "metadata": {},
   "outputs": [
    {
     "data": {
      "text/plain": [
       "['Rank', 'Country', 'GDP(US$MM)']"
      ]
     },
     "execution_count": 25,
     "metadata": {},
     "output_type": "execute_result"
    }
   ],
   "source": [
    "#the third one\n",
    "header3 = [th.getText().strip() for th in data_tables[2][0].findAll('thead')[0].findAll('th')]\n",
    "header3"
   ]
  },
  {
   "cell_type": "code",
   "execution_count": 21,
   "id": "0397b376",
   "metadata": {},
   "outputs": [],
   "source": [
    "rows3 = data_tables[2][0].findAll('tbody')[0].findAll('tr')[1:]"
   ]
  },
  {
   "cell_type": "code",
   "execution_count": 22,
   "id": "a04fc721",
   "metadata": {},
   "outputs": [],
   "source": [
    "data_rows3 = [[find_right_text(i, td) for i, td in enumerate(tr.findAll('td'))] for tr in rows2]"
   ]
  },
  {
   "cell_type": "code",
   "execution_count": 24,
   "id": "8322803f",
   "metadata": {},
   "outputs": [
    {
     "data": {
      "text/html": [
       "<div>\n",
       "<style scoped>\n",
       "    .dataframe tbody tr th:only-of-type {\n",
       "        vertical-align: middle;\n",
       "    }\n",
       "\n",
       "    .dataframe tbody tr th {\n",
       "        vertical-align: top;\n",
       "    }\n",
       "\n",
       "    .dataframe thead th {\n",
       "        text-align: right;\n",
       "    }\n",
       "</style>\n",
       "<table border=\"1\" class=\"dataframe\">\n",
       "  <thead>\n",
       "    <tr style=\"text-align: right;\">\n",
       "      <th></th>\n",
       "      <th>Rank</th>\n",
       "      <th>Country</th>\n",
       "      <th>GDP(US$MM)</th>\n",
       "    </tr>\n",
       "  </thead>\n",
       "  <tbody>\n",
       "    <tr>\n",
       "      <th>0</th>\n",
       "      <td>1</td>\n",
       "      <td>United States</td>\n",
       "      <td>19,390,604</td>\n",
       "    </tr>\n",
       "    <tr>\n",
       "      <th>1</th>\n",
       "      <td></td>\n",
       "      <td>European Union[23]</td>\n",
       "      <td>17,277,698</td>\n",
       "    </tr>\n",
       "    <tr>\n",
       "      <th>2</th>\n",
       "      <td>2</td>\n",
       "      <td>China[n 4]</td>\n",
       "      <td>12,237,700</td>\n",
       "    </tr>\n",
       "    <tr>\n",
       "      <th>3</th>\n",
       "      <td>3</td>\n",
       "      <td>Japan</td>\n",
       "      <td>4,872,137</td>\n",
       "    </tr>\n",
       "    <tr>\n",
       "      <th>4</th>\n",
       "      <td>4</td>\n",
       "      <td>Germany</td>\n",
       "      <td>3,677,439</td>\n",
       "    </tr>\n",
       "  </tbody>\n",
       "</table>\n",
       "</div>"
      ],
      "text/plain": [
       "  Rank             Country  GDP(US$MM)\n",
       "0    1       United States  19,390,604\n",
       "1       European Union[23]  17,277,698\n",
       "2    2          China[n 4]  12,237,700\n",
       "3    3               Japan   4,872,137\n",
       "4    4             Germany   3,677,439"
      ]
     },
     "execution_count": 24,
     "metadata": {},
     "output_type": "execute_result"
    }
   ],
   "source": [
    "df3 = pd.DataFrame(data_rows3, columns=header3)\n",
    "df3.head()"
   ]
  },
  {
   "cell_type": "raw",
   "id": "07440cdb",
   "metadata": {},
   "source": [
    "Data Wrangling with Python: Activity 8, page 233\n",
    "In this activity we do the following\n",
    "\n",
    "Create a data frame from a given CSV\n",
    "Check for duplicates in the columns that matter\n",
    "Check for NaN in the columns that matter\n",
    "Apply our domain knowledge to single out and remove outliers\n",
    "Generate nice print statements as reports for differents steps\n",
    "The data set is a 1000 row data set which represnets the traffic on a certain page of a website. The Names, email, and IP are faked out in order to keep the privacy"
   ]
  },
  {
   "cell_type": "code",
   "execution_count": 27,
   "id": "a635b57f",
   "metadata": {},
   "outputs": [],
   "source": [
    "import pandas as pd\n",
    "import numpy as np\n",
    "import matplotlib.pyplot as plt\n",
    "\n",
    "%matplotlib inline"
   ]
  },
  {
   "cell_type": "code",
   "execution_count": 28,
   "id": "af92eb2f",
   "metadata": {},
   "outputs": [
    {
     "name": "stdout",
     "output_type": "stream",
     "text": [
      "Number of rows in the dataframe is :  1000\n"
     ]
    }
   ],
   "source": [
    "# Read CSV\n",
    "visit = pd.read_csv('/Users/vishnukolluri/Downloads/visit_data.csv')\n",
    "\n",
    "# Dataframe Details\n",
    "visit.head()\n",
    "info = visit.shape\n",
    "print('Number of rows in the dataframe is : ', info[0])"
   ]
  },
  {
   "cell_type": "code",
   "execution_count": 29,
   "id": "f4e78b1a",
   "metadata": {},
   "outputs": [
    {
     "name": "stdout",
     "output_type": "stream",
     "text": [
      "Duplicate entries in email column is :  0\n"
     ]
    }
   ],
   "source": [
    "#  duplicates\n",
    "print('Duplicate entries in email column is : ', visit.duplicated(['email']).sum())"
   ]
  },
  {
   "cell_type": "code",
   "execution_count": 31,
   "id": "04808f53",
   "metadata": {},
   "outputs": [
    {
     "name": "stdout",
     "output_type": "stream",
     "text": [
      "<class 'pandas.core.frame.DataFrame'>\n",
      "RangeIndex: 1000 entries, 0 to 999\n",
      "Data columns (total 7 columns):\n",
      " #   Column      Non-Null Count  Dtype  \n",
      "---  ------      --------------  -----  \n",
      " 0   id          1000 non-null   int64  \n",
      " 1   first_name  704 non-null    object \n",
      " 2   last_name   704 non-null    object \n",
      " 3   email       1000 non-null   object \n",
      " 4   gender      495 non-null    object \n",
      " 5   ip_address  1000 non-null   object \n",
      " 6   visit       974 non-null    float64\n",
      "dtypes: float64(1), int64(1), object(5)\n",
      "memory usage: 54.8+ KB\n"
     ]
    }
   ],
   "source": [
    "#  NaN\n",
    "visit.info()"
   ]
  },
  {
   "cell_type": "code",
   "execution_count": 32,
   "id": "84ba9017",
   "metadata": {},
   "outputs": [
    {
     "name": "stdout",
     "output_type": "stream",
     "text": [
      "Number of rows in new dataframe is :  974\n"
     ]
    }
   ],
   "source": [
    "# Dropna from visit column\n",
    "visit_1 = visit.dropna(subset=['visit'], axis=0)\n",
    "info2= visit_1.shape\n",
    "print('Number of rows in new dataframe is : ', info2[0])"
   ]
  },
  {
   "cell_type": "code",
   "execution_count": 33,
   "id": "de55ac0e",
   "metadata": {},
   "outputs": [
    {
     "data": {
      "text/plain": [
       "{'whiskers': [<matplotlib.lines.Line2D at 0x7f81b9091be0>,\n",
       "  <matplotlib.lines.Line2D at 0x7f81b9091eb0>],\n",
       " 'caps': [<matplotlib.lines.Line2D at 0x7f81ca79d280>,\n",
       "  <matplotlib.lines.Line2D at 0x7f81ca79d610>],\n",
       " 'boxes': [<matplotlib.lines.Line2D at 0x7f81b9091790>],\n",
       " 'medians': [<matplotlib.lines.Line2D at 0x7f81ca79d9a0>],\n",
       " 'fliers': [<matplotlib.lines.Line2D at 0x7f81ca79dd30>],\n",
       " 'means': []}"
      ]
     },
     "execution_count": 33,
     "metadata": {},
     "output_type": "execute_result"
    },
    {
     "data": {
      "image/png": "[encoded data removed]",
      "text/plain": [
       "<Figure size 432x288 with 1 Axes>"
      ]
     },
     "metadata": {
      "needs_background": "light"
     },
     "output_type": "display_data"
    }
   ],
   "source": [
    "# Box plot\n",
    "plt.boxplot(visit_1.visit)   # Box plot"
   ]
  },
  {
   "cell_type": "code",
   "execution_count": 34,
   "id": "0d3162be",
   "metadata": {},
   "outputs": [
    {
     "name": "stdout",
     "output_type": "stream",
     "text": [
      "Number of rows in new dataframe is :  923\n"
     ]
    }
   ],
   "source": [
    "# Remove Outliers\n",
    "visit_2 = visit_1[(visit_1['visit'] <= 2900) & (visit_1['visit'] >= 100)]\n",
    "info3 = visit_2.shape\n",
    "print('Number of rows in new dataframe is : ', info3[0])"
   ]
  },
  {
   "cell_type": "markdown",
   "id": "6efbd1dc",
   "metadata": {},
   "source": [
    "3 Insert data into a SQL Lite database – create a table with the following data:"
   ]
  },
  {
   "cell_type": "code",
   "execution_count": 38,
   "id": "91dccfd5",
   "metadata": {},
   "outputs": [],
   "source": [
    "import sqlite3\n",
    "\n",
    "# Create a table \n",
    "\n",
    "ct = \"\"\"\n",
    "CREATE TABLE user\n",
    "(Name VARCHAR(20), \n",
    " Address VARCHAR(35), \n",
    " City VARCHAR(10), \n",
    " State VARCHAR(10), \n",
    " Zip_code VARCHAR(10), \n",
    " Phone Number VARCHAR(10)\n",
    " );\"\"\"\n",
    "\n",
    "con = sqlite3.connect('mydata.sqlite') \n",
    "con.execute(ct)                    \n",
    "con.commit()                           # Commit changes"
   ]
  },
  {
   "cell_type": "code",
   "execution_count": 49,
   "id": "0adb84cc",
   "metadata": {},
   "outputs": [],
   "source": [
    "# Insert 10 rows into database\n",
    "\n",
    "data = [('Rob Parlor', '6812, Pacific St', 'Omaha', 'NE', 68106, 1234567891),\n",
    "        ('Glen Jones', '7474, Pine St', 'Omaha', 'NE', 68106, 2345678912),\n",
    "        ('Vijay W', '8900, Billard Av', 'Ralston', 'NE', 68127, 3456789123),\n",
    "        ('Saurabh Biswas', '7510 Lakeview Ct', 'La Vista', 'NE', 68961, 4567891234),\n",
    "        ('Gourav Verma', '6855, Pacific St', 'Omaha', 'NE', 68106, 5678912345),\n",
    "        ('Brian Sampson', '1855, Center St', 'Omaha', 'NE', 68116, 9670912345),\n",
    "        ('Terry Durham', '58, Boys Town', 'Omaha', 'NE', 69116, 6678910345),\n",
    "        ('Chandu Y', '905, Pacific St', 'Omaha', 'NE', 68106, 5670002345),\n",
    "        ('Shani Kumar', '1119, Crosswinds apt', 'Omaha', 'NE', 68160, 8678912005),\n",
    "        ('Dan Cross', '6855, Pacific St', 'Omaha', 'NE', 68106, 7600012345)]\n",
    "\n",
    "inst = \"INSERT INTO DB_Tbl VALUES(?, ?, ?, ?, ?, ?)\"\n",
    "\n",
    "con.executemany(inst, data)\n",
    "con.commit()"
   ]
  },
  {
   "cell_type": "code",
   "execution_count": 50,
   "id": "8be2c6fd",
   "metadata": {},
   "outputs": [
    {
     "data": {
      "text/plain": [
       "[('John Doe', '100 Becker Street', 'Chicago', 'IL', 60015, 4536273492),\n",
       " ('Bond James', '101 Becker Street', 'Chicago', 'IL', 60015, 4536274322),\n",
       " ('Sachin Tendulkar', '102 Becker Street', 'Chicago', 'IL', 68116, 4536268921),\n",
       " ('Steve Jobs', '103 Becker Street', 'Chicago', 'IL', 11237, 4536268655),\n",
       " ('Vishnu Kolluri', '144th, Pacific St', 'Omaha', 'NE', 68106, 5678912345),\n",
       " ('Simran Sampson', '123, Center St', 'Omaha', 'NE', 68116, 9670912345),\n",
       " ('Terry Durham', '58, Boys Town', 'Omaha', 'NE', 69116, 6678910345),\n",
       " ('Chandu Y', '905, Pacific St', 'Omaha', 'NE', 68028, 5670002345),\n",
       " ('Venky Kumar', '1119, Crosswinds apt', 'Omaha', 'NE', 68160, 8678912005),\n",
       " ('Keshav Cross', '6855, Pacific St', 'Omaha', 'NE', 68106, 7600012345),\n",
       " ('Rob Parlor', '6812, Pacific St', 'Omaha', 'NE', 68106, 1234567891),\n",
       " ('Glen Jones', '7474, Pine St', 'Omaha', 'NE', 68106, 2345678912),\n",
       " ('Vijay W', '8900, Billard Av', 'Ralston', 'NE', 68127, 3456789123),\n",
       " ('Saurabh Biswas', '7510 Lakeview Ct', 'La Vista', 'NE', 68961, 4567891234),\n",
       " ('Gourav Verma', '6855, Pacific St', 'Omaha', 'NE', 68106, 5678912345),\n",
       " ('Brian Sampson', '1855, Center St', 'Omaha', 'NE', 68116, 9670912345),\n",
       " ('Terry Durham', '58, Boys Town', 'Omaha', 'NE', 69116, 6678910345),\n",
       " ('Chandu Y', '905, Pacific St', 'Omaha', 'NE', 68106, 5670002345),\n",
       " ('Shani Kumar', '1119, Crosswinds apt', 'Omaha', 'NE', 68160, 8678912005),\n",
       " ('Dan Cross', '6855, Pacific St', 'Omaha', 'NE', 68106, 7600012345)]"
      ]
     },
     "execution_count": 50,
     "metadata": {},
     "output_type": "execute_result"
    }
   ],
   "source": [
    "# Display the content of database\n",
    "cursor = con.execute('select * from DB_Tbl')\n",
    "rows = cursor.fetchall()\n",
    "rows"
   ]
  },
  {
   "cell_type": "code",
   "execution_count": 48,
   "id": "5c0945a5",
   "metadata": {},
   "outputs": [
    {
     "data": {
      "text/plain": [
       "[]"
      ]
     },
     "execution_count": 48,
     "metadata": {},
     "output_type": "execute_result"
    }
   ],
   "source": [
    "# contents of database\n",
    "cursor = con.execute('select * from user')\n",
    "rows = cursor.fetchall()\n",
    "rows"
   ]
  },
  {
   "cell_type": "code",
   "execution_count": 51,
   "id": "a176c823",
   "metadata": {},
   "outputs": [
    {
     "data": {
      "text/html": [
       "<div>\n",
       "<style scoped>\n",
       "    .dataframe tbody tr th:only-of-type {\n",
       "        vertical-align: middle;\n",
       "    }\n",
       "\n",
       "    .dataframe tbody tr th {\n",
       "        vertical-align: top;\n",
       "    }\n",
       "\n",
       "    .dataframe thead th {\n",
       "        text-align: right;\n",
       "    }\n",
       "</style>\n",
       "<table border=\"1\" class=\"dataframe\">\n",
       "  <thead>\n",
       "    <tr style=\"text-align: right;\">\n",
       "      <th></th>\n",
       "      <th>Name</th>\n",
       "      <th>Address</th>\n",
       "      <th>City</th>\n",
       "      <th>State</th>\n",
       "      <th>Zip</th>\n",
       "      <th>Phone</th>\n",
       "    </tr>\n",
       "  </thead>\n",
       "  <tbody>\n",
       "    <tr>\n",
       "      <th>0</th>\n",
       "      <td>John Doe</td>\n",
       "      <td>100 Becker Street</td>\n",
       "      <td>Chicago</td>\n",
       "      <td>IL</td>\n",
       "      <td>60015</td>\n",
       "      <td>4536273492</td>\n",
       "    </tr>\n",
       "    <tr>\n",
       "      <th>1</th>\n",
       "      <td>Bond James</td>\n",
       "      <td>101 Becker Street</td>\n",
       "      <td>Chicago</td>\n",
       "      <td>IL</td>\n",
       "      <td>60015</td>\n",
       "      <td>4536274322</td>\n",
       "    </tr>\n",
       "    <tr>\n",
       "      <th>2</th>\n",
       "      <td>Sachin Tendulkar</td>\n",
       "      <td>102 Becker Street</td>\n",
       "      <td>Chicago</td>\n",
       "      <td>IL</td>\n",
       "      <td>68116</td>\n",
       "      <td>4536268921</td>\n",
       "    </tr>\n",
       "    <tr>\n",
       "      <th>3</th>\n",
       "      <td>Steve Jobs</td>\n",
       "      <td>103 Becker Street</td>\n",
       "      <td>Chicago</td>\n",
       "      <td>IL</td>\n",
       "      <td>11237</td>\n",
       "      <td>4536268655</td>\n",
       "    </tr>\n",
       "    <tr>\n",
       "      <th>4</th>\n",
       "      <td>Vishnu Kolluri</td>\n",
       "      <td>144th, Pacific St</td>\n",
       "      <td>Omaha</td>\n",
       "      <td>NE</td>\n",
       "      <td>68106</td>\n",
       "      <td>5678912345</td>\n",
       "    </tr>\n",
       "    <tr>\n",
       "      <th>5</th>\n",
       "      <td>Simran Sampson</td>\n",
       "      <td>123, Center St</td>\n",
       "      <td>Omaha</td>\n",
       "      <td>NE</td>\n",
       "      <td>68116</td>\n",
       "      <td>9670912345</td>\n",
       "    </tr>\n",
       "    <tr>\n",
       "      <th>6</th>\n",
       "      <td>Terry Durham</td>\n",
       "      <td>58, Boys Town</td>\n",
       "      <td>Omaha</td>\n",
       "      <td>NE</td>\n",
       "      <td>69116</td>\n",
       "      <td>6678910345</td>\n",
       "    </tr>\n",
       "    <tr>\n",
       "      <th>7</th>\n",
       "      <td>Chandu Y</td>\n",
       "      <td>905, Pacific St</td>\n",
       "      <td>Omaha</td>\n",
       "      <td>NE</td>\n",
       "      <td>68028</td>\n",
       "      <td>5670002345</td>\n",
       "    </tr>\n",
       "    <tr>\n",
       "      <th>8</th>\n",
       "      <td>Venky Kumar</td>\n",
       "      <td>1119, Crosswinds apt</td>\n",
       "      <td>Omaha</td>\n",
       "      <td>NE</td>\n",
       "      <td>68160</td>\n",
       "      <td>8678912005</td>\n",
       "    </tr>\n",
       "    <tr>\n",
       "      <th>9</th>\n",
       "      <td>Keshav Cross</td>\n",
       "      <td>6855, Pacific St</td>\n",
       "      <td>Omaha</td>\n",
       "      <td>NE</td>\n",
       "      <td>68106</td>\n",
       "      <td>7600012345</td>\n",
       "    </tr>\n",
       "    <tr>\n",
       "      <th>10</th>\n",
       "      <td>Rob Parlor</td>\n",
       "      <td>6812, Pacific St</td>\n",
       "      <td>Omaha</td>\n",
       "      <td>NE</td>\n",
       "      <td>68106</td>\n",
       "      <td>1234567891</td>\n",
       "    </tr>\n",
       "    <tr>\n",
       "      <th>11</th>\n",
       "      <td>Glen Jones</td>\n",
       "      <td>7474, Pine St</td>\n",
       "      <td>Omaha</td>\n",
       "      <td>NE</td>\n",
       "      <td>68106</td>\n",
       "      <td>2345678912</td>\n",
       "    </tr>\n",
       "    <tr>\n",
       "      <th>12</th>\n",
       "      <td>Vijay W</td>\n",
       "      <td>8900, Billard Av</td>\n",
       "      <td>Ralston</td>\n",
       "      <td>NE</td>\n",
       "      <td>68127</td>\n",
       "      <td>3456789123</td>\n",
       "    </tr>\n",
       "    <tr>\n",
       "      <th>13</th>\n",
       "      <td>Saurabh Biswas</td>\n",
       "      <td>7510 Lakeview Ct</td>\n",
       "      <td>La Vista</td>\n",
       "      <td>NE</td>\n",
       "      <td>68961</td>\n",
       "      <td>4567891234</td>\n",
       "    </tr>\n",
       "    <tr>\n",
       "      <th>14</th>\n",
       "      <td>Gourav Verma</td>\n",
       "      <td>6855, Pacific St</td>\n",
       "      <td>Omaha</td>\n",
       "      <td>NE</td>\n",
       "      <td>68106</td>\n",
       "      <td>5678912345</td>\n",
       "    </tr>\n",
       "    <tr>\n",
       "      <th>15</th>\n",
       "      <td>Brian Sampson</td>\n",
       "      <td>1855, Center St</td>\n",
       "      <td>Omaha</td>\n",
       "      <td>NE</td>\n",
       "      <td>68116</td>\n",
       "      <td>9670912345</td>\n",
       "    </tr>\n",
       "    <tr>\n",
       "      <th>16</th>\n",
       "      <td>Terry Durham</td>\n",
       "      <td>58, Boys Town</td>\n",
       "      <td>Omaha</td>\n",
       "      <td>NE</td>\n",
       "      <td>69116</td>\n",
       "      <td>6678910345</td>\n",
       "    </tr>\n",
       "    <tr>\n",
       "      <th>17</th>\n",
       "      <td>Chandu Y</td>\n",
       "      <td>905, Pacific St</td>\n",
       "      <td>Omaha</td>\n",
       "      <td>NE</td>\n",
       "      <td>68106</td>\n",
       "      <td>5670002345</td>\n",
       "    </tr>\n",
       "    <tr>\n",
       "      <th>18</th>\n",
       "      <td>Shani Kumar</td>\n",
       "      <td>1119, Crosswinds apt</td>\n",
       "      <td>Omaha</td>\n",
       "      <td>NE</td>\n",
       "      <td>68160</td>\n",
       "      <td>8678912005</td>\n",
       "    </tr>\n",
       "    <tr>\n",
       "      <th>19</th>\n",
       "      <td>Dan Cross</td>\n",
       "      <td>6855, Pacific St</td>\n",
       "      <td>Omaha</td>\n",
       "      <td>NE</td>\n",
       "      <td>68106</td>\n",
       "      <td>7600012345</td>\n",
       "    </tr>\n",
       "  </tbody>\n",
       "</table>\n",
       "</div>"
      ],
      "text/plain": [
       "                Name               Address      City State    Zip       Phone\n",
       "0           John Doe     100 Becker Street   Chicago    IL  60015  4536273492\n",
       "1         Bond James     101 Becker Street   Chicago    IL  60015  4536274322\n",
       "2   Sachin Tendulkar     102 Becker Street   Chicago    IL  68116  4536268921\n",
       "3         Steve Jobs     103 Becker Street   Chicago    IL  11237  4536268655\n",
       "4     Vishnu Kolluri     144th, Pacific St     Omaha    NE  68106  5678912345\n",
       "5     Simran Sampson        123, Center St     Omaha    NE  68116  9670912345\n",
       "6       Terry Durham         58, Boys Town     Omaha    NE  69116  6678910345\n",
       "7           Chandu Y       905, Pacific St     Omaha    NE  68028  5670002345\n",
       "8        Venky Kumar  1119, Crosswinds apt     Omaha    NE  68160  8678912005\n",
       "9       Keshav Cross      6855, Pacific St     Omaha    NE  68106  7600012345\n",
       "10        Rob Parlor      6812, Pacific St     Omaha    NE  68106  1234567891\n",
       "11        Glen Jones         7474, Pine St     Omaha    NE  68106  2345678912\n",
       "12           Vijay W      8900, Billard Av   Ralston    NE  68127  3456789123\n",
       "13    Saurabh Biswas      7510 Lakeview Ct  La Vista    NE  68961  4567891234\n",
       "14      Gourav Verma      6855, Pacific St     Omaha    NE  68106  5678912345\n",
       "15     Brian Sampson       1855, Center St     Omaha    NE  68116  9670912345\n",
       "16      Terry Durham         58, Boys Town     Omaha    NE  69116  6678910345\n",
       "17          Chandu Y       905, Pacific St     Omaha    NE  68106  5670002345\n",
       "18       Shani Kumar  1119, Crosswinds apt     Omaha    NE  68160  8678912005\n",
       "19         Dan Cross      6855, Pacific St     Omaha    NE  68106  7600012345"
      ]
     },
     "execution_count": 51,
     "metadata": {},
     "output_type": "execute_result"
    }
   ],
   "source": [
    "# data from database into a pandas dataframe\n",
    "\n",
    "DF_Tab = pd.DataFrame(rows, columns=[x[0] for x in cursor.description])\n",
    "DF_Tab"
   ]
  },
  {
   "cell_type": "code",
   "execution_count": null,
   "id": "356c9069",
   "metadata": {},
   "outputs": [],
   "source": []
  }
 ],
 "metadata": {
  "kernelspec": {
   "display_name": "Python 3 (ipykernel)",
   "language": "python",
   "name": "python3"
  },
  "language_info": {
   "codemirror_mode": {
    "name": "ipython",
    "version": 3
   },
   "file_extension": ".py",
   "mimetype": "text/x-python",
   "name": "python",
   "nbconvert_exporter": "python",
   "pygments_lexer": "ipython3",
   "version": "3.9.7"
  }
 },
 "nbformat": 4,
 "nbformat_minor": 5
}
